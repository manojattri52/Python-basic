{
  "nbformat": 4,
  "nbformat_minor": 0,
  "metadata": {
    "colab": {
      "name": "Loop_pratice.ipynb",
      "provenance": []
    },
    "kernelspec": {
      "name": "python3",
      "display_name": "Python 3"
    }
  },
  "cells": [
    {
      "cell_type": "markdown",
      "metadata": {
        "id": "777O4JA-Nbgc"
      },
      "source": [
        "Concept Part :\r\n",
        "\r\n",
        "1. Every program has 3 parts : I/p , processing , o/p\r\n",
        "2. Processing part has lots of decision making , loops and functions\r\n",
        "3. if your problem or task has to be solved , then learn to break it up in smaller task and code for each such sub-task."
      ]
    },
    {
      "cell_type": "code",
      "metadata": {
        "id": "UPypw_RuNd2-"
      },
      "source": [
        ""
      ],
      "execution_count": null,
      "outputs": []
    },
    {
      "cell_type": "markdown",
      "metadata": {
        "id": "NXXz4OhkN286"
      },
      "source": [
        "Python while Loop\r\n",
        "\r\n",
        "**Loops are used in programming to repeat a specific block of code.**\r\n",
        "\r\n",
        "The while loop in Python is used to iterate over a block of code as long as the test expression (condition) is true.\r\n",
        "\r\n",
        "We generally use this loop when we don't know the number of times to iterate beforehand.\r\n",
        "\r\n",
        "Syntax of while Loop in Python\r\n",
        "\r\n",
        "while test_expression:\r\n",
        "\r\n",
        "   Body of while"
      ]
    },
    {
      "cell_type": "code",
      "metadata": {
        "id": "mrluXX-dOtzS"
      },
      "source": [
        ""
      ],
      "execution_count": null,
      "outputs": []
    },
    {
      "cell_type": "markdown",
      "metadata": {
        "id": "FQhI-QEcOOHA"
      },
      "source": [
        "In the while loop, test expression is checked first. The body of the loop is entered only if the test_expression evaluates to True.\r\n",
        "\r\n",
        "After one iteration, the test expression is checked again. This process continues until the test_expression evaluates to False"
      ]
    },
    {
      "cell_type": "code",
      "metadata": {
        "colab": {
          "base_uri": "https://localhost:8080/"
        },
        "id": "BtVa272S8VHO",
        "outputId": "e002d8c7-b6de-482b-dfe8-19c1b604de3e"
      },
      "source": [
        "#Example\r\n",
        "#Q1. Write program to add natural numbers up to n?\r\n",
        "#Take input from the user\r\n",
        "n=int(input(\"enter n:\"))\r\n",
        "\r\n",
        "#Initialize sum and counter\r\n",
        "sum=0\r\n",
        "i=1\r\n",
        "\r\n",
        "while i<=n:\r\n",
        "  sum=sum+i\r\n",
        "  i=i+1 # update counter\r\n",
        "\r\n",
        "print(\"The sum is:\",sum)\r\n"
      ],
      "execution_count": null,
      "outputs": [
        {
          "output_type": "stream",
          "text": [
            "enter n:5\n",
            "The sum is: 15\n"
          ],
          "name": "stdout"
        }
      ]
    },
    {
      "cell_type": "code",
      "metadata": {
        "colab": {
          "base_uri": "https://localhost:8080/"
        },
        "id": "wmUc9Uwj-j0K",
        "outputId": "dcbdf605-f5bd-40b6-f900-85c484e1f68f"
      },
      "source": [
        "#Example 2\r\n",
        "a=['foo', 'bar', 'baz']\r\n",
        "while a:\r\n",
        "  print(a.pop())\r\n",
        "  print(\"-----------\")\r\n",
        " "
      ],
      "execution_count": null,
      "outputs": [
        {
          "output_type": "stream",
          "text": [
            "baz\n",
            "-----------\n",
            "['foo', 'bar']\n",
            "bar\n",
            "-----------\n",
            "['foo']\n",
            "foo\n",
            "-----------\n",
            "[]\n"
          ],
          "name": "stdout"
        }
      ]
    },
    {
      "cell_type": "code",
      "metadata": {
        "colab": {
          "base_uri": "https://localhost:8080/"
        },
        "id": "MiSrwk6f_gvE",
        "outputId": "d52ad188-acfb-4fb7-c77e-009f46d5d06e"
      },
      "source": [
        "# Does pop() really removes the element?\r\n",
        "## Yes\r\n",
        "a=['foo', 'bar', 'baz']\r\n",
        "while a:\r\n",
        "  a.pop()\r\n",
        "  print(a)"
      ],
      "execution_count": null,
      "outputs": [
        {
          "output_type": "stream",
          "text": [
            "['foo', 'bar']\n",
            "['foo']\n",
            "[]\n"
          ],
          "name": "stdout"
        }
      ]
    },
    {
      "cell_type": "code",
      "metadata": {
        "colab": {
          "base_uri": "https://localhost:8080/"
        },
        "id": "uhr_BDLeOS5I",
        "outputId": "61dbf3c0-d9d2-4f34-aed7-a234d801d055"
      },
      "source": [
        "## Q> Write the above prg without using loops ? \r\n",
        "a=['foo', 'bar', 'baz']\r\n",
        "a.pop()\r\n",
        "print(a)\r\n",
        "print(\"--------\")\r\n",
        "\r\n",
        "a.pop()\r\n",
        "print(a)\r\n",
        "print(\"--------\")\r\n",
        "\r\n",
        "a.pop()\r\n",
        "print(a)\r\n",
        "print(\"--------\")\r\n"
      ],
      "execution_count": null,
      "outputs": [
        {
          "output_type": "stream",
          "text": [
            "['foo', 'bar']\n",
            "--------\n",
            "['foo']\n",
            "--------\n",
            "[]\n",
            "--------\n"
          ],
          "name": "stdout"
        }
      ]
    },
    {
      "cell_type": "code",
      "metadata": {
        "colab": {
          "base_uri": "https://localhost:8080/"
        },
        "id": "eY1dFuN4BAET",
        "outputId": "d81a7893-f1d5-4a8c-961c-33e8d55a5124"
      },
      "source": [
        "#Q> Create dictionary and use while loop to print its values.\r\n",
        "\r\n",
        "dict={'Apple':'Kinnouri', 'Tomato':'Himsona', 'Ginger':'Sirmouri'}\r\n",
        "\r\n",
        "# Convert dict values to a list\r\n",
        "dict=list(dict.values())\r\n",
        "\r\n",
        "\r\n",
        "while dict:\r\n",
        "  print(dict.pop(0))\r\n"
      ],
      "execution_count": null,
      "outputs": [
        {
          "output_type": "stream",
          "text": [
            "Kinnouri\n",
            "Himsona\n",
            "Sirmouri\n"
          ],
          "name": "stdout"
        }
      ]
    },
    {
      "cell_type": "code",
      "metadata": {
        "id": "vfcIqOAJCScz"
      },
      "source": [
        "# Python for loop"
      ],
      "execution_count": null,
      "outputs": []
    },
    {
      "cell_type": "markdown",
      "metadata": {
        "id": "Lvo90yAoDXv_"
      },
      "source": [
        "**What is for loop in Python?**\r\n",
        "\r\n",
        "The for loop in Python is used to iterate over a sequence (list, tuple, string) or other iterable objects. Iterating over a sequence is called traversal."
      ]
    },
    {
      "cell_type": "code",
      "metadata": {
        "colab": {
          "base_uri": "https://localhost:8080/"
        },
        "id": "pbpFpbMEDbsF",
        "outputId": "8942d6a7-67c1-44cc-fb17-5cce52e668da"
      },
      "source": [
        "## What this code does?\r\n",
        "for num in range(2,10):\r\n",
        "  if num % 2==0:\r\n",
        "   print(\"Found an even number\", num)\r\n",
        "  else:\r\n",
        "   print(\"Found an odd number\", num)\r\n",
        "                 \r\n"
      ],
      "execution_count": null,
      "outputs": [
        {
          "output_type": "stream",
          "text": [
            "Found an even number 2\n",
            "Found an odd number 3\n",
            "Found an even number 4\n",
            "Found an odd number 5\n",
            "Found an even number 6\n",
            "Found an odd number 7\n",
            "Found an even number 8\n",
            "Found an odd number 9\n"
          ],
          "name": "stdout"
        }
      ]
    },
    {
      "cell_type": "code",
      "metadata": {
        "colab": {
          "base_uri": "https://localhost:8080/"
        },
        "id": "cV1aC5EpE8Ud",
        "outputId": "e19198d6-4954-4353-992e-52b0e726af33"
      },
      "source": [
        "# What this code does?\r\n",
        "a=['mary', 'had','a', 'little', 'lamb']\r\n",
        "for i in range(len(a)):\r\n",
        "  print(i,a[i])\r\n",
        "  "
      ],
      "execution_count": null,
      "outputs": [
        {
          "output_type": "stream",
          "text": [
            "0 mary\n",
            "1 had\n",
            "2 a\n",
            "3 little\n",
            "4 lamb\n"
          ],
          "name": "stdout"
        }
      ]
    },
    {
      "cell_type": "code",
      "metadata": {
        "colab": {
          "base_uri": "https://localhost:8080/"
        },
        "id": "ArhIw8lWFwxG",
        "outputId": "36c3988f-3336-414b-ecc7-e2f74b34062f"
      },
      "source": [
        "# Program to find the sum of all numbers stored in a list.\r\n",
        "list1=[1,3,4,5,6,7,8,10]\r\n",
        "sum=0\r\n",
        "for val in list1:\r\n",
        "  sum=sum+val\r\n",
        "print(\"The sum of list1:\", sum)"
      ],
      "execution_count": null,
      "outputs": [
        {
          "output_type": "stream",
          "text": [
            "The sum of list1: 44\n"
          ],
          "name": "stdout"
        }
      ]
    },
    {
      "cell_type": "code",
      "metadata": {
        "colab": {
          "base_uri": "https://localhost:8080/"
        },
        "id": "Sr4jsQWZBBJe",
        "outputId": "532b2849-eae4-46d5-deae-f2639de619dc"
      },
      "source": [
        "#Example\r\n",
        "\r\n",
        "element=[]\r\n",
        "# The range function does 0 to 5 counts-> first to (last-1)\r\n",
        "\r\n",
        "for i in range(0,6):\r\n",
        "  print(f\"adding {i} to the list.\")\r\n",
        "#append () allows to append to list\r\n",
        "  element.append(i)\r\n",
        "\r\n",
        "print(\"----------\")\r\n",
        "\r\n",
        "#now we can print them out too\r\n",
        "for i in element:\r\n",
        " print(f\"element was: {i}\")\r\n",
        "print(\"------------\")\r\n",
        "print(element)\r\n",
        "\r\n",
        "   \r\n",
        "  "
      ],
      "execution_count": null,
      "outputs": [
        {
          "output_type": "stream",
          "text": [
            "adding 0 to the list.\n",
            "adding 1 to the list.\n",
            "adding 2 to the list.\n",
            "adding 3 to the list.\n",
            "adding 4 to the list.\n",
            "adding 5 to the list.\n",
            "----------\n",
            "element was: 0\n",
            "element was: 1\n",
            "element was: 2\n",
            "element was: 3\n",
            "element was: 4\n",
            "element was: 5\n",
            "------------\n",
            "[0, 1, 2, 3, 4, 5]\n"
          ],
          "name": "stdout"
        }
      ]
    },
    {
      "cell_type": "code",
      "metadata": {
        "colab": {
          "base_uri": "https://localhost:8080/"
        },
        "id": "ibXASUawDTqA",
        "outputId": "7dca5551-36ed-4683-a5bc-7fe9b73b4f36"
      },
      "source": [
        "# Retry printing the values of the dict using for loop.\r\n",
        "dict={'Apple':'Kinnouri', 'Tomato':'Himsona', 'Ginger':'Sirmouri'}\r\n",
        "\r\n",
        "for val in dict.values():\r\n",
        "  print(val)\r\n",
        "print(\"-------------\")\r\n",
        "for val in dict.keys():\r\n",
        "  print(val)\r\n",
        "print(\"----------\")\r\n",
        "for val in dict.items():\r\n",
        " print(val)    "
      ],
      "execution_count": null,
      "outputs": [
        {
          "output_type": "stream",
          "text": [
            "Kinnouri\n",
            "Himsona\n",
            "Sirmouri\n",
            "-------------\n",
            "Apple\n",
            "Tomato\n",
            "Ginger\n",
            "----------\n",
            "('Apple', 'Kinnouri')\n",
            "('Tomato', 'Himsona')\n",
            "('Ginger', 'Sirmouri')\n"
          ],
          "name": "stdout"
        }
      ]
    },
    {
      "cell_type": "code",
      "metadata": {
        "colab": {
          "base_uri": "https://localhost:8080/"
        },
        "id": "T-wTYN40EZo-",
        "outputId": "48ffda8a-4108-4e61-b785-51747d7f22d6"
      },
      "source": [
        "#range ()\r\n",
        "print(range(10))\r\n",
        "print(list(range(10)))\r\n",
        "print(list(range(2,8))) ## ( start , end )\r\n",
        "print(list(range(2,20,3)))## ( start , end , step )\r\n",
        "print(list(range(-10,-50, -10)))"
      ],
      "execution_count": null,
      "outputs": [
        {
          "output_type": "stream",
          "text": [
            "range(0, 10)\n",
            "[0, 1, 2, 3, 4, 5, 6, 7, 8, 9]\n",
            "[2, 3, 4, 5, 6, 7]\n",
            "[2, 5, 8, 11, 14, 17]\n",
            "[-10, -20, -30, -40]\n"
          ],
          "name": "stdout"
        }
      ]
    },
    {
      "cell_type": "markdown",
      "metadata": {
        "id": "W2H-DxxuGdgx"
      },
      "source": [
        "### **What is the use of break and continue in Python?**\r\n",
        "\r\n",
        "In Python, break and continue statements can alter the flow of a normal loop.\r\n",
        "\r\n",
        "Loops iterate over a block of code until the test expression is false, but sometimes we wish to terminate the current iteration or even the whole loop without checking test expression.\r\n",
        "\r\n",
        "The break and continue statements are used in these cases."
      ]
    },
    {
      "cell_type": "code",
      "metadata": {
        "colab": {
          "base_uri": "https://localhost:8080/"
        },
        "id": "_U9BlFcBGhVS",
        "outputId": "8e4d052b-21bc-4c57-d2c9-ec5ca9177ba5"
      },
      "source": [
        "# Use of break statement inside the loop\r\n",
        "for val in \"string\":\r\n",
        "  if val==\"i\":\r\n",
        "    break\r\n",
        "  print(val)\r\n",
        "\r\n",
        "print(\"The end\")  "
      ],
      "execution_count": null,
      "outputs": [
        {
          "output_type": "stream",
          "text": [
            "s\n",
            "t\n",
            "r\n",
            "The end\n"
          ],
          "name": "stdout"
        }
      ]
    },
    {
      "cell_type": "markdown",
      "metadata": {
        "id": "K8Rga_l2Lpvv"
      },
      "source": [
        "## **Python continue statement**\r\n",
        "The continue statement is used to skip the rest of the code inside a loop for the current iteration only. Loop does not terminate but continues on with the next iteration."
      ]
    },
    {
      "cell_type": "code",
      "metadata": {
        "colab": {
          "base_uri": "https://localhost:8080/"
        },
        "id": "wQpcGqPMLs7c",
        "outputId": "dcdd6eb2-c44a-46a8-e054-c4b108b59f28"
      },
      "source": [
        "# Program to show the use of continue statement inside loops.\r\n",
        "for var in \"string\":\r\n",
        "  if var=='i':\r\n",
        "    continue\r\n",
        " \r\n",
        "  print(var)\r\n"
      ],
      "execution_count": null,
      "outputs": [
        {
          "output_type": "stream",
          "text": [
            "s\n",
            "t\n",
            "r\n",
            "n\n",
            "g\n"
          ],
          "name": "stdout"
        }
      ]
    },
    {
      "cell_type": "code",
      "metadata": {
        "colab": {
          "base_uri": "https://localhost:8080/"
        },
        "id": "9RIS8tROMrb9",
        "outputId": "b0abdb56-7c4b-486b-a70f-c0beda454482"
      },
      "source": [
        "## Qn > What does the below code do ?\r\n",
        "\r\n",
        "words = ['cat', 'window', 'defenestrate']\r\n",
        "for w in words:\r\n",
        "  print(w, len(w))"
      ],
      "execution_count": null,
      "outputs": [
        {
          "output_type": "stream",
          "text": [
            "cat 3\n",
            "window 6\n",
            "defenestrate 12\n"
          ],
          "name": "stdout"
        }
      ]
    },
    {
      "cell_type": "code",
      "metadata": {
        "colab": {
          "base_uri": "https://localhost:8080/"
        },
        "id": "3j6Gmi7kNElV",
        "outputId": "c750ee80-71e4-4a7f-db9c-a58c1097a4f7"
      },
      "source": [
        "## Q> I want to accept the shopping items from the user , till he/she enters a -1\r\n",
        "\r\n",
        "## Note 1 : I don't know how many i/ps will really come !!\r\n",
        "\r\n",
        "## Note 2 : When we don't know about the count(i/ps) use \r\n",
        "##    while True :\r\n",
        "## this is a infinite while loop\r\n",
        "## this is a case where I would break\r\n",
        "\r\n",
        "shoppinglist=[]\r\n",
        "while True:\r\n",
        "  product=input(\"add item to shopping cart and enter -1 to stop shopping:\")\r\n",
        "  if product=='-1':\r\n",
        "    break\r\n",
        "  shoppinglist.append(product)\r\n",
        "print(shoppinglist)\r\n",
        "print(len(shoppinglist))\r\n",
        "\r\n",
        "  "
      ],
      "execution_count": null,
      "outputs": [
        {
          "output_type": "stream",
          "text": [
            "add item to shopping cart and enter -1 to stop shopping:Jean\n",
            "add item to shopping cart and enter -1 to stop shopping:Jacket\n",
            "add item to shopping cart and enter -1 to stop shopping:Socks\n",
            "add item to shopping cart and enter -1 to stop shopping:Shoes\n",
            "add item to shopping cart and enter -1 to stop shopping:-1\n",
            "['Jean', 'Jacket', 'Socks', 'Shoes']\n",
            "4\n"
          ],
          "name": "stdout"
        }
      ]
    },
    {
      "cell_type": "markdown",
      "metadata": {
        "id": "18RUq8vZAOhx"
      },
      "source": [
        "Regard\r\n",
        "\r\n",
        "Manoj Kumar Attri\r\n",
        "\r\n",
        "You can be connected me at all the time here.\r\n",
        "\r\n",
        "linkedin.com/in/manoj-kumar-b43b63150\r\n",
        "\r\n",
        "\r\n"
      ]
    },
    {
      "cell_type": "code",
      "metadata": {
        "id": "y20dS--aAg_E"
      },
      "source": [
        ""
      ],
      "execution_count": null,
      "outputs": []
    }
  ]
}