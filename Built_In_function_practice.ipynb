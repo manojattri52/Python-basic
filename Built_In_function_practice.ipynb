{
  "nbformat": 4,
  "nbformat_minor": 0,
  "metadata": {
    "colab": {
      "name": "Built-In function practice..ipynb",
      "provenance": [],
      "collapsed_sections": []
    },
    "kernelspec": {
      "display_name": "Python 3",
      "name": "python3"
    }
  },
  "cells": [
    {
      "cell_type": "code",
      "metadata": {
        "colab": {
          "base_uri": "https://localhost:8080/"
        },
        "id": "ysEPQXdVftBB",
        "outputId": "744252d0-1227-4d95-c5d8-7206a469c1ec"
      },
      "source": [
        "# Random number functions\r\n",
        "import random\r\n",
        "random.seed() # As no seed provided, hence it takes systime.\r\n",
        "print(\"random number with default seed:\", random.random())\r\n",
        "\r\n",
        "random.seed(10)\r\n",
        "print(\"random number with int seed:\", random.random())\r\n",
        "\r\n"
      ],
      "execution_count": null,
      "outputs": [
        {
          "output_type": "stream",
          "text": [
            "random number with default seed: 0.5002934028885835\n",
            "random number with int seed: 0.5714025946899135\n"
          ],
          "name": "stdout"
        }
      ]
    },
    {
      "cell_type": "markdown",
      "metadata": {
        "id": "UwqwTMTNWZqP"
      },
      "source": [
        "**Randomness has many uses in science, art, statistics, cryptography, gaming, gambling,** and other fields. For example, random assignment in randomized controlled trials helps scientists to test hypotheses, and random numbers or pseudorandom numbers help video games such as video poker.\r\n",
        "\r\n",
        "These uses have different levels of requirements, which leads to the use of different methods. Some are strict and some others are loose.\r\n",
        "\r\n",
        "For example, applications in cryptography usually have strict requirements, whereas applications like generating a \"quote of the day\" can use a looser standard of pseudorandomness."
      ]
    },
    {
      "cell_type": "code",
      "metadata": {
        "colab": {
          "base_uri": "https://localhost:8080/"
        },
        "id": "1Ib1XrYpWZFv",
        "outputId": "6f4d371c-55e3-49bc-d5b5-c967be3d0bc0"
      },
      "source": [
        "## Shuffle()\r\n",
        "import random\r\n",
        "numlist=[23,24,34,54]\r\n",
        "random.shuffle(numlist)\r\n",
        "print(\"Reshuffled list:\", numlist)\r\n",
        "\r\n",
        "random.shuffle(numlist)\r\n",
        "print(\"Reshuffled again:\", numlist)"
      ],
      "execution_count": null,
      "outputs": [
        {
          "output_type": "stream",
          "text": [
            "Reshuffled list: [23, 34, 54, 24]\n",
            "Reshuffled again: [34, 23, 24, 54]\n"
          ],
          "name": "stdout"
        }
      ]
    },
    {
      "cell_type": "code",
      "metadata": {
        "colab": {
          "base_uri": "https://localhost:8080/"
        },
        "id": "mSm91jscXMjc",
        "outputId": "b7219eab-0f41-4d47-f36a-0ecd5e417108"
      },
      "source": [
        "##--randrange() method returns a randomly selected element from range(start, stop, step).\r\n",
        "import random\r\n",
        "\r\n",
        "# randomly select an odd number between 1-100 \r\n",
        "print(\"randrange(1,100,2:\",random.randrange(1,100,2))\r\n",
        "\r\n",
        "# randomly select a number between 0-99\r\n",
        "print(\"randrage(1oo):\", random.randrange(100))\r\n"
      ],
      "execution_count": null,
      "outputs": [
        {
          "output_type": "stream",
          "text": [
            "randrange(1,100,2: 87\n",
            "randrage(1oo): 33\n"
          ],
          "name": "stdout"
        }
      ]
    },
    {
      "cell_type": "code",
      "metadata": {
        "colab": {
          "base_uri": "https://localhost:8080/"
        },
        "id": "4953EDpbYwx3",
        "outputId": "05d0e618-72ed-4646-d3d8-be226caa9aec"
      },
      "source": [
        "#Built-in string methods\r\n",
        "#len()\r\n",
        "\r\n",
        "str1=\"Hello India\"\r\n",
        "print(\"Total character in above string:\",len(str1))"
      ],
      "execution_count": null,
      "outputs": [
        {
          "output_type": "stream",
          "text": [
            "Total character in above string: 11\n"
          ],
          "name": "stdout"
        }
      ]
    },
    {
      "cell_type": "code",
      "metadata": {
        "colab": {
          "base_uri": "https://localhost:8080/"
        },
        "id": "CjDZLfScZaHj",
        "outputId": "84decf46-a52e-4e30-d54c-83b1e4194f25"
      },
      "source": [
        "#Index()\r\n",
        "#Search first index of a character.\r\n",
        "str2=\"My name is Manoj\"\r\n",
        "print(\"The first character index:\",str2.index('M'))\r\n",
        "print(\"searching for n\", str2.index('n'))\r\n",
        "print(\"searching last occurance:\", str2.rindex('s'))"
      ],
      "execution_count": null,
      "outputs": [
        {
          "output_type": "stream",
          "text": [
            "The first character index: 0\n",
            "searching for n 3\n",
            "searching last occurance: 9\n"
          ],
          "name": "stdout"
        }
      ]
    },
    {
      "cell_type": "code",
      "metadata": {
        "colab": {
          "base_uri": "https://localhost:8080/"
        },
        "id": "65f9Qktsbd-f",
        "outputId": "19f50300-8cad-4196-a7c8-dc8fb4a3d15c"
      },
      "source": [
        "# Count()\r\n",
        "str3='Emaar palm garden'\r\n",
        "substr='gard'\r\n",
        "print(\" character (a) in str3:\", str3.count('a'))\r\n",
        "\r\n",
        "print(\"sub str in string\", str3.count(substr))"
      ],
      "execution_count": null,
      "outputs": [
        {
          "output_type": "stream",
          "text": [
            " character (a) in str3: 4\n",
            "sub str in string 1\n"
          ],
          "name": "stdout"
        }
      ]
    },
    {
      "cell_type": "code",
      "metadata": {
        "colab": {
          "base_uri": "https://localhost:8080/"
        },
        "id": "CIUcYOfhc_3P",
        "outputId": "e08aa9c9-ca10-4f14-9a0d-5138e1364368"
      },
      "source": [
        "#---upper, lower, startswith, endswith\r\n",
        "#covert to upper and lower cases\r\n",
        "str0=\"Jai Mahasu Devta\"\r\n",
        "print(\"convert it into capital:\", str0.upper())\r\n",
        "print(\"convert it into capital:\", str0.lower())\r\n",
        "\r\n",
        "#---startswith() and endswith() returns bool\r\n",
        "print(str0.startswith(\"Jai\"))\r\n",
        "print(str0.endswith(\"narayan\"))"
      ],
      "execution_count": null,
      "outputs": [
        {
          "output_type": "stream",
          "text": [
            "convert it into capital: JAI MAHASU DEVTA\n",
            "convert it into capital: jai mahasu devta\n",
            "True\n",
            "False\n"
          ],
          "name": "stdout"
        }
      ]
    },
    {
      "cell_type": "code",
      "metadata": {
        "colab": {
          "base_uri": "https://localhost:8080/"
        },
        "id": "wa5--_lteZxb",
        "outputId": "7a66c322-eb53-4af4-e82a-c3bcaa10c3d9"
      },
      "source": [
        "#Split the string into array.\r\n",
        "str4=\"Narender Modi\"\r\n",
        "str5=str4.split(\" \")\r\n",
        "print(str5)"
      ],
      "execution_count": null,
      "outputs": [
        {
          "output_type": "stream",
          "text": [
            "['Narender', 'Modi']\n"
          ],
          "name": "stdout"
        }
      ]
    },
    {
      "cell_type": "code",
      "metadata": {
        "colab": {
          "base_uri": "https://localhost:8080/"
        },
        "id": "f503hL4wfmei",
        "outputId": "605215d0-630e-47c5-ad2a-49ff34ebc3d4"
      },
      "source": [
        "#Slice operator\r\n",
        "astring=\"Hello world\"\r\n",
        "(print(astring[3:6]))\r\n",
        "print(astring[2:])\r\n",
        "print(astring[:8])\r\n",
        "\r\n"
      ],
      "execution_count": null,
      "outputs": [
        {
          "output_type": "stream",
          "text": [
            "lo \n",
            "llo world\n",
            "Hello wo\n"
          ],
          "name": "stdout"
        }
      ]
    },
    {
      "cell_type": "code",
      "metadata": {
        "colab": {
          "background_save": true
        },
        "id": "uAY-IrcdgMWc",
        "outputId": "20eac21d-cd7a-4436-caba-56729b2cccd8"
      },
      "source": [
        "#extended syntax of slice is [start,stop,step]\r\n",
        "amount='75648933'\r\n",
        "print(amount[1:6:2])"
      ],
      "execution_count": null,
      "outputs": [
        {
          "output_type": "stream",
          "text": [
            "549\n"
          ],
          "name": "stdout"
        }
      ]
    },
    {
      "cell_type": "code",
      "metadata": {
        "id": "Aissou2BhKWr",
        "colab": {
          "base_uri": "https://localhost:8080/"
        },
        "outputId": "8a80966a-38cd-4f88-dee0-2b6234639deb"
      },
      "source": [
        "#read rgt to left and print forward\r\n",
        "amount='123456789'\r\n",
        "print(\"negative index -3 :\", amount[-3:])\r\n",
        "\r\n",
        "#reverse a string. -1 means step backwards\r\n",
        "print(\"Reversing the string :\", amount[ : : -1])\r\n",
        "\r\n",
        "#reverse string and alternating chars\r\n",
        "print(\"reverse string, alternate chars:\", amount[ : : -2])"
      ],
      "execution_count": 2,
      "outputs": [
        {
          "output_type": "stream",
          "text": [
            "negative index -3 : 789\n",
            "Reversing the string : 987654321\n",
            "reverse string, alternate chars: 97531\n"
          ],
          "name": "stdout"
        }
      ]
    },
    {
      "cell_type": "markdown",
      "metadata": {
        "id": "RE0XLyA8HVIX"
      },
      "source": [
        "## Coding exercise(5 Min)"
      ]
    },
    {
      "cell_type": "code",
      "metadata": {
        "colab": {
          "base_uri": "https://localhost:8080/"
        },
        "id": "4osFdQR5FRKp",
        "outputId": "b68d7d43-be6f-440a-ce5a-171d44b42df1"
      },
      "source": [
        "s = \"strings are awesome\"\r\n",
        "\r\n",
        "## print len of the string ?\r\n",
        "print(\"Length of s = \", len(s))\r\n",
        "\r\n",
        "# find first occurrence of \"a\" ?\r\n",
        "print(\"The first occurrence of the letter a = \", s.index(\"a\"))\r\n",
        "\r\n",
        "# find Number of a's ?\r\n",
        "print(\"a occurs \", s.count(\"a\"), \"times\")\r\n",
        "\r\n",
        "# use slicing and find first 5 chars\r\n",
        "print(\"The first five characters are \", s[ : 5]) \r\n",
        "\r\n",
        "# use slicing and find 5th to 9th char\r\n",
        "print(\"The next five characters are \", s[5 : 10])\r\n",
        "\r\n",
        "# use slicing and find alternate chars from 1st to last.\r\n",
        "print(\"The characters with odd index are\", s[1 :  : 2]) \r\n",
        "\r\n",
        "# use slicing and find 5th-from-last to the last char. Hint : use -ve index \r\n",
        "print(\"The last five characters are \",s[ -5 : ]) "
      ],
      "execution_count": 4,
      "outputs": [
        {
          "output_type": "stream",
          "text": [
            "Length of s =  19\n",
            "The first occurrence of the letter a =  8\n",
            "a occurs  2 times\n",
            "The first five characters are  strin\n",
            "The next five characters are  gs ar\n",
            "The characters with odd index are tig r wsm\n",
            "The last five characters are  esome\n"
          ],
          "name": "stdout"
        }
      ]
    },
    {
      "cell_type": "code",
      "metadata": {
        "colab": {
          "base_uri": "https://localhost:8080/"
        },
        "id": "41d7xBT0JBqW",
        "outputId": "81664f0a-85da-419e-c9a8-f06f2e038e67"
      },
      "source": [
        "#-------More String functions\r\n",
        "\r\n",
        "#--accept input and check it is num, alpha or special\r\n",
        "#--isalpha(), isdigit(), isalnum()\r\n",
        "\r\n",
        "str = input(\"Enter any string ? \")\r\n",
        "\r\n",
        "if str.isalpha() :\r\n",
        " print(\"i/p is alpha only\")\r\n",
        "elif str.isdigit() :\r\n",
        " print(\"i/p is digit\")\r\n",
        "elif str.isalnum() :\r\n",
        " print(\"i/p is alpha-numeric\")\r\n",
        "else :\r\n",
        " print(\"i/p is special char\")\r\n",
        "\r\n",
        "## Note :  space is taken as special char "
      ],
      "execution_count": 5,
      "outputs": [
        {
          "output_type": "stream",
          "text": [
            "Enter any string ? manoj\n",
            "i/p is alpha only\n"
          ],
          "name": "stdout"
        }
      ]
    },
    {
      "cell_type": "code",
      "metadata": {
        "colab": {
          "base_uri": "https://localhost:8080/"
        },
        "id": "nNYJG_rmJI1w",
        "outputId": "9dd7d0f4-a17a-472c-88fb-949a538f8e6c"
      },
      "source": [
        "#--find() method \r\n",
        "#-- determines if the string str occurs in string or not. if yes returns index, else -1\r\n",
        "\r\n",
        "str1 = \"this is string example....wow!!!\"\r\n",
        "str2 = \"exam\";\r\n",
        "\r\n",
        "print(str1.find(str2))\r\n",
        "\r\n",
        "print(str1.find(str2, 10))\r\n",
        "\r\n",
        "print(str1.find(str2, 40))  #-1 if not found\r\n",
        "\r\n",
        "#--find from rgt to left \r\n",
        "strA = \"example1 and example2\"\r\n",
        "strB = \"exam\";\r\n",
        "print(strA.rfind(strB))"
      ],
      "execution_count": 6,
      "outputs": [
        {
          "output_type": "stream",
          "text": [
            "15\n",
            "15\n",
            "-1\n",
            "13\n"
          ],
          "name": "stdout"
        }
      ]
    },
    {
      "cell_type": "markdown",
      "metadata": {
        "id": "5OZ3DxiDJRn_"
      },
      "source": [
        "#Built-in List Functions"
      ]
    },
    {
      "cell_type": "code",
      "metadata": {
        "colab": {
          "base_uri": "https://localhost:8080/"
        },
        "id": "0dpaQBCeJUWr",
        "outputId": "ba695a57-17f7-4de7-cd17-bdef3d4c8764"
      },
      "source": [
        "#--list() converts a tuple or string or object to List\r\n",
        "aTuple = (123, 'C++', 'Java', 'Python')\r\n",
        "\r\n",
        "list1 = list(aTuple)\r\n",
        "print(\"List elements : \", list1)\r\n",
        "\r\n",
        "str = \"Hello World\"\r\n",
        "\r\n",
        "list2 = list(str)\r\n",
        "print(\"List elements : \", list2)"
      ],
      "execution_count": 7,
      "outputs": [
        {
          "output_type": "stream",
          "text": [
            "List elements :  [123, 'C++', 'Java', 'Python']\n",
            "List elements :  ['H', 'e', 'l', 'l', 'o', ' ', 'W', 'o', 'r', 'l', 'd']\n"
          ],
          "name": "stdout"
        }
      ]
    },
    {
      "cell_type": "code",
      "metadata": {
        "colab": {
          "base_uri": "https://localhost:8080/"
        },
        "id": "HNm8Jo8WJdXn",
        "outputId": "a9bfb30d-bf8d-425e-9536-b7618ad3a240"
      },
      "source": [
        "#-- append() appends object to the list \r\n",
        "list3 = ['sql', 'Java', 'Python']\r\n",
        "list3.append(['hackerrank', 'Challenge'])\r\n",
        "\r\n",
        "print(\"after appending : \", list3)"
      ],
      "execution_count": 8,
      "outputs": [
        {
          "output_type": "stream",
          "text": [
            "after appending :  ['sql', 'Java', 'Python', ['hackerrank', 'Challenge']]\n"
          ],
          "name": "stdout"
        }
      ]
    },
    {
      "cell_type": "code",
      "metadata": {
        "colab": {
          "base_uri": "https://localhost:8080/"
        },
        "id": "hoXSNikAJe9o",
        "outputId": "7a24dd38-e119-4fd1-8ebd-14290d317801"
      },
      "source": [
        "#-- extend() adds each element of the iterable to the list one at a time. \r\n",
        "list3 = ['sql', 'Java', 'Python']\r\n",
        "\r\n",
        "list3.extend(['hackerrank', 'Challenge'])\r\n",
        "\r\n",
        "print(\"after extending : \", list3)"
      ],
      "execution_count": 9,
      "outputs": [
        {
          "output_type": "stream",
          "text": [
            "after extending :  ['sql', 'Java', 'Python', 'hackerrank', 'Challenge']\n"
          ],
          "name": "stdout"
        }
      ]
    },
    {
      "cell_type": "code",
      "metadata": {
        "colab": {
          "base_uri": "https://localhost:8080/"
        },
        "id": "ODXL8FkhJh3U",
        "outputId": "f4357805-b115-408d-8e12-a6216dc9a937"
      },
      "source": [
        "#-- count() counts object in the list \r\n",
        "list4 = ['Java Script', 'Java', 'Python']\r\n",
        "\r\n",
        "print(\"Count of Java : \", list4.count('Java'))\r\n"
      ],
      "execution_count": 10,
      "outputs": [
        {
          "output_type": "stream",
          "text": [
            "Count of Java :  1\n"
          ],
          "name": "stdout"
        }
      ]
    },
    {
      "cell_type": "code",
      "metadata": {
        "colab": {
          "base_uri": "https://localhost:8080/"
        },
        "id": "DZQRwgUeJlsd",
        "outputId": "f9e3cf7b-34a9-43d4-a2d7-f953ed8c6858"
      },
      "source": [
        "#--insert() method inserts object obj into list at offset index.\r\n",
        "\r\n",
        "list5 = ['physics', 'chemistry', 'maths']\r\n",
        "\r\n",
        "list5.insert(1, 'Biology')\r\n",
        "\r\n",
        "print ('Final list : ', list5)"
      ],
      "execution_count": 11,
      "outputs": [
        {
          "output_type": "stream",
          "text": [
            "Final list :  ['physics', 'Biology', 'chemistry', 'maths']\n"
          ],
          "name": "stdout"
        }
      ]
    },
    {
      "cell_type": "code",
      "metadata": {
        "colab": {
          "base_uri": "https://localhost:8080/"
        },
        "id": "U2bI1p6uJrr_",
        "outputId": "bffd1bd9-f6e5-4370-e6a2-c30a02edc658"
      },
      "source": [
        "#--pop() Removes and returns last object from list\r\n",
        "list4 = ['physics', 'Biology', 'maths']\r\n",
        "list4.pop(1)\r\n",
        "print ('pop once : ', list4)\r\n",
        "\r\n",
        "list4.pop()\r\n",
        "print ('pop again : ', list4)"
      ],
      "execution_count": 12,
      "outputs": [
        {
          "output_type": "stream",
          "text": [
            "pop once :  ['physics', 'maths']\n",
            "pop again :  ['physics']\n"
          ],
          "name": "stdout"
        }
      ]
    },
    {
      "cell_type": "code",
      "metadata": {
        "colab": {
          "base_uri": "https://localhost:8080/",
          "height": 35
        },
        "id": "0fpNtx5pJvMK",
        "outputId": "c8d9da96-c197-42cb-9e04-5b323d8a17a0"
      },
      "source": [
        "## - does pop() work with -ve index ?\r\n",
        "\r\n",
        "list4 = ['physics', 'Biology', 'maths']\r\n",
        "list4.pop(-2)\r\n",
        "\r\n",
        "## ans : yes it does."
      ],
      "execution_count": 13,
      "outputs": [
        {
          "output_type": "execute_result",
          "data": {
            "application/vnd.google.colaboratory.intrinsic+json": {
              "type": "string"
            },
            "text/plain": [
              "'Biology'"
            ]
          },
          "metadata": {
            "tags": []
          },
          "execution_count": 13
        }
      ]
    },
    {
      "cell_type": "code",
      "metadata": {
        "colab": {
          "base_uri": "https://localhost:8080/"
        },
        "id": "d8Yfy680J05_",
        "outputId": "a28c8475-49c0-4e45-8cc3-51b203d0b9a0"
      },
      "source": [
        "#--reverse() the list\r\n",
        "list5 = ['physics', 'chemistry', 'maths']\r\n",
        "\r\n",
        "list5.reverse()\r\n",
        "\r\n",
        "print(\"after reversing : \", list5)"
      ],
      "execution_count": 14,
      "outputs": [
        {
          "output_type": "stream",
          "text": [
            "after reversing :  ['maths', 'chemistry', 'physics']\n"
          ],
          "name": "stdout"
        }
      ]
    },
    {
      "cell_type": "code",
      "metadata": {
        "colab": {
          "base_uri": "https://localhost:8080/"
        },
        "id": "cc6iC36gJ5W5",
        "outputId": "346a39fa-20f1-4264-b421-6da42bd86766"
      },
      "source": [
        "#--sort() the list\r\n",
        "list6 = ['physics', 'chemistry', 'maths']\r\n",
        "\r\n",
        "list6.sort()\r\n",
        "\r\n",
        "print(\"after sorting : \", list6)\r\n",
        "\r\n",
        "## sorting uses ASCII values\r\n",
        "## ascii(A) -> 65 ,  ascii(a) -> 97\r\n",
        "## A -> Z has lower ascii value compared a -> z"
      ],
      "execution_count": 15,
      "outputs": [
        {
          "output_type": "stream",
          "text": [
            "after sorting :  ['chemistry', 'maths', 'physics']\n"
          ],
          "name": "stdout"
        }
      ]
    },
    {
      "cell_type": "code",
      "metadata": {
        "colab": {
          "base_uri": "https://localhost:8080/"
        },
        "id": "MdP9Sq2GJ9DR",
        "outputId": "a870641a-222f-4802-f5d8-ad9250a5fa7e"
      },
      "source": [
        "#--sort() the list in reverse\r\n",
        "list6 = ['physics', 'chemistry', 'maths']\r\n",
        "\r\n",
        "list6.sort(reverse = True)\r\n",
        "\r\n",
        "print(\"after sorting : \", list6)"
      ],
      "execution_count": 16,
      "outputs": [
        {
          "output_type": "stream",
          "text": [
            "after sorting :  ['physics', 'maths', 'chemistry']\n"
          ],
          "name": "stdout"
        }
      ]
    },
    {
      "cell_type": "markdown",
      "metadata": {
        "id": "2VFcWG5tKCKl"
      },
      "source": [
        "#Coding Excerise ( 5 mins )"
      ]
    },
    {
      "cell_type": "code",
      "metadata": {
        "colab": {
          "base_uri": "https://localhost:8080/"
        },
        "id": "Cg_mKw2RKDQ9",
        "outputId": "e9d4d3c9-e546-4ee0-f790-a7c301fb8efc"
      },
      "source": [
        "## Loop over your list and print all elements that are of size 3 ?\r\n",
        "list1=[[1,2,3,],[4,5,6,7],[8,9,10]]\r\n",
        "for x in list1:\r\n",
        "  if len(x)==3:\r\n",
        "    print(x)"
      ],
      "execution_count": 17,
      "outputs": [
        {
          "output_type": "stream",
          "text": [
            "[1, 2, 3]\n",
            "[8, 9, 10]\n"
          ],
          "name": "stdout"
        }
      ]
    },
    {
      "cell_type": "code",
      "metadata": {
        "colab": {
          "base_uri": "https://localhost:8080/"
        },
        "id": "2Pc1lhf0KiKg",
        "outputId": "5ebe5e81-2413-481a-9f76-50db4d96b90a"
      },
      "source": [
        "#Enumerate(): returns the index and value both\r\n",
        "list1=[[1,2,3,],[4,5,6,7],[8,9,10]]\r\n",
        "for i, val in enumerate(list1):\r\n",
        "  print(i,val)\r\n",
        "  \r\n"
      ],
      "execution_count": 18,
      "outputs": [
        {
          "output_type": "stream",
          "text": [
            "0 [1, 2, 3]\n",
            "1 [4, 5, 6, 7]\n",
            "2 [8, 9, 10]\n"
          ],
          "name": "stdout"
        }
      ]
    },
    {
      "cell_type": "code",
      "metadata": {
        "colab": {
          "base_uri": "https://localhost:8080/"
        },
        "id": "ZiJjvdNILiQh",
        "outputId": "86459847-39b0-44ae-df6a-bcc14fa27de7"
      },
      "source": [
        "#Intersection() \r\n",
        "list1=[1,2,3,4,5,6,6]\r\n",
        "list2=[3,3,4,7,8]\r\n",
        "\r\n",
        "# Remember : intersection method is define over set object, not list\r\n",
        "print(set(list1))\r\n",
        "print(set(list2))\r\n",
        "print(\"-------------\")\r\n",
        "#use intersection()\r\n",
        "print(list(set(list1).intersection(set(list2))))\r\n",
        "\r\n"
      ],
      "execution_count": 20,
      "outputs": [
        {
          "output_type": "stream",
          "text": [
            "{1, 2, 3, 4, 5, 6}\n",
            "{8, 3, 4, 7}\n",
            "-------------\n",
            "[3, 4]\n"
          ],
          "name": "stdout"
        }
      ]
    },
    {
      "cell_type": "code",
      "metadata": {
        "colab": {
          "base_uri": "https://localhost:8080/"
        },
        "id": "uwrYo9_fM9WI",
        "outputId": "7cd636f2-e407-47e6-dee2-d889c5051c13"
      },
      "source": [
        "## Print the unique elements from List ?\r\n",
        "dup=[1,2,3,1,2,5,6,7,8]\r\n",
        "print(list(set(dup)))"
      ],
      "execution_count": 21,
      "outputs": [
        {
          "output_type": "stream",
          "text": [
            "[1, 2, 3, 5, 6, 7, 8]\n"
          ],
          "name": "stdout"
        }
      ]
    },
    {
      "cell_type": "code",
      "metadata": {
        "colab": {
          "base_uri": "https://localhost:8080/"
        },
        "id": "9mTQlDgeNVwQ",
        "outputId": "ceb985fb-3db3-4f1a-c9f2-2f3a4909960e"
      },
      "source": [
        "# Your list with duplicate values\r\n",
        "duplicates = [\"abc\", \"abc\", \"def\"]\r\n",
        "\r\n",
        "#--Print the unique elements from \"duplicates\" list.\r\n",
        "print(list(set(duplicates)))"
      ],
      "execution_count": 26,
      "outputs": [
        {
          "output_type": "stream",
          "text": [
            "['abc', 'def']\n"
          ],
          "name": "stdout"
        }
      ]
    },
    {
      "cell_type": "markdown",
      "metadata": {
        "id": "JiyXrLT5Novu"
      },
      "source": [
        "#Built-in tuple function"
      ]
    },
    {
      "cell_type": "code",
      "metadata": {
        "colab": {
          "base_uri": "https://localhost:8080/"
        },
        "id": "QQbf78P7NoUx",
        "outputId": "cfeb5231-4f94-4319-c47e-66dd06b04918"
      },
      "source": [
        "#Built-in tuple Functions--\r\n",
        "tuple1, tuple2 = (123, 456, 678), (456, 123)\r\n",
        "#finding len of tuple\r\n",
        "print(len(tuple1))\r\n",
        "print(len(tuple2))\r\n",
        "print(\"---------\")\r\n",
        "\r\n",
        "#returns max value\r\n",
        "print(max(tuple1))\r\n",
        "print(\"------------\")\r\n",
        "\r\n",
        "#return min value\")\r\n",
        "print(min(tuple1))\r\n"
      ],
      "execution_count": 32,
      "outputs": [
        {
          "output_type": "stream",
          "text": [
            "3\n",
            "2\n",
            "---------\n",
            "678\n",
            "------------\n",
            "123\n"
          ],
          "name": "stdout"
        }
      ]
    },
    {
      "cell_type": "code",
      "metadata": {
        "colab": {
          "base_uri": "https://localhost:8080/"
        },
        "id": "sy7T7zE6OlsU",
        "outputId": "83f897bc-1eeb-44d9-d91b-c5e09fadb46f"
      },
      "source": [
        "#converts list to tuple\r\n",
        "list2 = [123, 'suven', 789]\r\n",
        "tuple3=tuple(list2)\r\n",
        "print(tuple3)\r\n"
      ],
      "execution_count": 37,
      "outputs": [
        {
          "output_type": "stream",
          "text": [
            "(123, 'suven', 789)\n",
            "[123, 'suven', 789]\n"
          ],
          "name": "stdout"
        }
      ]
    },
    {
      "cell_type": "markdown",
      "metadata": {
        "id": "0WrqvTwwPSr0"
      },
      "source": [
        "#ZIP Function"
      ]
    },
    {
      "cell_type": "code",
      "metadata": {
        "colab": {
          "base_uri": "https://localhost:8080/"
        },
        "id": "fdW2JsZwPOaf",
        "outputId": "370670ca-fa28-4e9e-c857-0481ba73518a"
      },
      "source": [
        "## The purpose of zip() is to map the similar index of multiple containers \r\n",
        "## so that they can be used as a single entity.\r\n",
        "\r\n",
        "#Initializing lists\r\n",
        "name=['Dazy', 'Nidhi', 'Maan', 'Rajpoot']\r\n",
        "emp_no=[1,3,4,5]\r\n",
        "bonus=[20,12,21,14]\r\n",
        "\r\n",
        "#using zip() to map values\r\n",
        "map=zip(name, emp_no, bonus) # # if you don't convert to set or list, then it prints the object id\r\n",
        "print(map)\r\n",
        "print(\"----------------------\")\r\n",
        "# converting map Object to a set or list,  for printing purposes \r\n",
        "lmap=set(map)\r\n",
        "print(\"The zip result is:\", end=\" \")\r\n",
        "print(lmap)\r\n",
        "print(\"-------------------------------------------\")\r\n",
        "## Can we sort ?  Ans : Yes (Remember: we can sort the set, so we need to covert it from set to list first)\r\n",
        "list1=list(lmap)\r\n",
        "list1.sort()\r\n",
        "print(list1)"
      ],
      "execution_count": 45,
      "outputs": [
        {
          "output_type": "stream",
          "text": [
            "<zip object at 0x7f1bd5546288>\n",
            "----------------------\n",
            "The zip result is: {('Dazy', 1, 20), ('Rajpoot', 5, 14), ('Nidhi', 3, 12), ('Maan', 4, 21)}\n",
            "-------------------------------------------\n",
            "[('Dazy', 1, 20), ('Maan', 4, 21), ('Nidhi', 3, 12), ('Rajpoot', 5, 14)]\n"
          ],
          "name": "stdout"
        }
      ]
    },
    {
      "cell_type": "code",
      "metadata": {
        "colab": {
          "base_uri": "https://localhost:8080/"
        },
        "id": "1_nApryZTTPA",
        "outputId": "2f42e9d7-605f-4012-e022-91d6b8a87694"
      },
      "source": [
        "## - simple application of zip() \r\n",
        "players=['Sachin', 'Sehwag', 'Gambhir','Dhoni']\r\n",
        "scores=[100, 76, 85, 150]\r\n",
        "\r\n",
        "for pl, sc in zip(players, scores):\r\n",
        "  print(\"player:   %s      score: %d\" %(pl,sc)) ## %s -> String , %d --> int number   , %f --> float number \r\n"
      ],
      "execution_count": 48,
      "outputs": [
        {
          "output_type": "stream",
          "text": [
            "player:   Sachin      score: 100\n",
            "player:   Sehwag      score: 76\n",
            "player:   Gambhir      score: 85\n",
            "player:   Dhoni      score: 150\n"
          ],
          "name": "stdout"
        }
      ]
    },
    {
      "cell_type": "markdown",
      "metadata": {
        "id": "JJfFpLucVM5e"
      },
      "source": [
        "#zipping and unzipping"
      ]
    },
    {
      "cell_type": "code",
      "metadata": {
        "colab": {
          "base_uri": "https://localhost:8080/"
        },
        "id": "Zs2JzjWBXLQj",
        "outputId": "81eae6e6-a9ff-48fc-a396-c317d11411e3"
      },
      "source": [
        "name=['Mahesh', 'Ranjan', 'Sanju', 'Rakesh']\r\n",
        "roll_no=[2,5,7,9]\r\n",
        "marks=[200, 345, 312, 231]\r\n",
        "\r\n",
        "map=zip(name, roll_no, marks) # use zip () to map values\r\n",
        "map2=list(map) # convert it into list\r\n",
        "print(\"the zip results is:\", end=\"\")\r\n",
        "print(map2)\r\n",
        "\r\n",
        "print(\"\\n\")\r\n",
        "namz, roll_noz, marksz=zip(*map2)\r\n",
        "print(\"The unzipped result:\")\r\n",
        "print(\"The name list is:\", end=\"\")\r\n",
        "print(namz)\r\n",
        "\r\n",
        "print(\"the roll no list:\", end=\"\")\r\n",
        "print(roll_noz)\r\n",
        "\r\n",
        "print(\"The marks list:\", end=\"\")\r\n",
        "print(marksz)\r\n",
        "\r\n",
        "\r\n"
      ],
      "execution_count": 5,
      "outputs": [
        {
          "output_type": "stream",
          "text": [
            "the zip results is:[('Mahesh', 2, 200), ('Ranjan', 5, 345), ('Sanju', 7, 312), ('Rakesh', 9, 231)]\n",
            "\n",
            "\n",
            "The unzipped result:\n",
            "The name list is:('Mahesh', 'Ranjan', 'Sanju', 'Rakesh')\n",
            "the roll no list:(2, 5, 7, 9)\n",
            "The marks list:(200, 345, 312, 231)\n"
          ],
          "name": "stdout"
        }
      ]
    },
    {
      "cell_type": "markdown",
      "metadata": {
        "id": "QHYgayXGfM90"
      },
      "source": [
        "#Built-in dict functions"
      ]
    },
    {
      "cell_type": "code",
      "metadata": {
        "colab": {
          "base_uri": "https://localhost:8080/"
        },
        "id": "Ocs8L1-lZMYN",
        "outputId": "8d4ab82a-b9d6-4a15-89de-8db8b218cad0"
      },
      "source": [
        "# clear() \r\n",
        "## -- Removes all elements of dictionary dictt\r\n",
        "dictt = {'Name':'RIL', 'Dividend':8,  'Outlook':'positive-hold'}\r\n",
        "dictt.clear()\r\n",
        "print(dictt)"
      ],
      "execution_count": 6,
      "outputs": [
        {
          "output_type": "stream",
          "text": [
            "{}\n"
          ],
          "name": "stdout"
        }
      ]
    },
    {
      "cell_type": "code",
      "metadata": {
        "colab": {
          "base_uri": "https://localhost:8080/"
        },
        "id": "aVdUio_yfyUc",
        "outputId": "496c1c6f-1949-44ac-be6d-34bbf430a877"
      },
      "source": [
        "#copy() : Returns a shallow copy of dictionary dictt\r\n",
        "dictt = {'Name':'RIL','Dividend':8, 'Outlook':'positive-hold'}\r\n",
        "\r\n",
        "dictt = {'Name':'ITC','Dividend':6, 'Outlook':'positive'}\r\n",
        "print(dictt)"
      ],
      "execution_count": 7,
      "outputs": [
        {
          "output_type": "stream",
          "text": [
            "{'Name': 'ITC', 'Dividend': 6, 'Outlook': 'positive'}\n"
          ],
          "name": "stdout"
        }
      ]
    },
    {
      "cell_type": "markdown",
      "metadata": {
        "id": "WMlxXbY9xCYu"
      },
      "source": [
        "#Difference between shallow and deep copy\r\n",
        "\r\n",
        "A shallow copy means constructing a new collection object and then populating it with references to the child objects found in the original. In essence, a shallow copy is only one level deep. The copying process does not recurse and therefore won’t create copies of the child objects themselves.\r\n",
        "\r\n",
        "A deep copy makes the copying process recursive. It means first constructing a new collection object and then recursively populating it with copies of the child objects found in the original. Copying an object this way walks the whole object tree to create a fully independent clone of the original object and all of its children."
      ]
    },
    {
      "cell_type": "code",
      "metadata": {
        "colab": {
          "base_uri": "https://localhost:8080/"
        },
        "id": "5NvqOaSbxBfl",
        "outputId": "0e1ad9bb-ebb1-4b7d-eb27-cfdbbca5c6de"
      },
      "source": [
        "#--shallow copy example --\r\n",
        "xs = [[1, 2, 3], [4, 5, 6], [7, 8, 9]]\r\n",
        "\r\n",
        "ys=list(xs) # Makes a shallow copy. ys refers to same address space\r\n",
        "print(ys)\r\n",
        "print(\"----------------\")\r\n",
        "\r\n",
        "xs.append(['new list'])\r\n",
        "print(\"xs is:\", xs)\r\n",
        "print(\"ys is:\", ys)\r\n",
        "print(\"---------------\")\r\n",
        "\r\n",
        "xs[1][0]='x'\r\n",
        "print(\"updated xs:\", xs)\r\n",
        "print(\"updated ys\", ys)\r\n",
        "print(\"---------------\")"
      ],
      "execution_count": 10,
      "outputs": [
        {
          "output_type": "stream",
          "text": [
            "[[1, 2, 3], [4, 5, 6], [7, 8, 9]]\n",
            "----------------\n",
            "xs is: [[1, 2, 3], [4, 5, 6], [7, 8, 9], ['new list']]\n",
            "ys is: [[1, 2, 3], [4, 5, 6], [7, 8, 9]]\n",
            "---------------\n",
            "updated xs: [[1, 2, 3], ['x', 5, 6], [7, 8, 9], ['new list']]\n",
            "updated ys [[1, 2, 3], ['x', 5, 6], [7, 8, 9]]\n",
            "---------------\n"
          ],
          "name": "stdout"
        }
      ]
    },
    {
      "cell_type": "code",
      "metadata": {
        "colab": {
          "base_uri": "https://localhost:8080/"
        },
        "id": "GCbCYJpuyr19",
        "outputId": "8e9ef210-37de-483f-f987-2b54e1e7473a"
      },
      "source": [
        "#deep copy example\r\n",
        "import copy\r\n",
        "xs = [[1, 2, 3], [4, 5, 6], [7, 8, 9]]\r\n",
        "zs=copy.deepcopy(xs) # all child objects are copied.\r\n",
        "print(\"zs is:\", zs)\r\n",
        "print(\"--------------\")\r\n",
        "xs[1][0]='x'\r\n",
        "print(\"updated xs:\", xs)\r\n",
        "print(\"zs remains same:\", zs)"
      ],
      "execution_count": 12,
      "outputs": [
        {
          "output_type": "stream",
          "text": [
            "zs is: [[1, 2, 3], [4, 5, 6], [7, 8, 9]]\n",
            "--------------\n",
            "updated xs: [[1, 2, 3], ['x', 5, 6], [7, 8, 9]]\n",
            "zs remains same: [[1, 2, 3], [4, 5, 6], [7, 8, 9]]\n"
          ],
          "name": "stdout"
        }
      ]
    },
    {
      "cell_type": "markdown",
      "metadata": {
        "id": "92alikcV0cio"
      },
      "source": [
        "#Coding practice"
      ]
    },
    {
      "cell_type": "code",
      "metadata": {
        "colab": {
          "base_uri": "https://localhost:8080/"
        },
        "id": "xVXEAxro0bS-",
        "outputId": "87a2c525-94a0-40f2-a132-7b74b2d8de40"
      },
      "source": [
        "#--get list of all keys, values and key:value pairs ?\r\n",
        "dictt = {'Name':'RIL','Dividend':8, 'Outlook':'positive-hold'}\r\n",
        "print(\"list of keys:\", dictt.keys())\r\n",
        "print(\"--------------------\")\r\n",
        "\r\n",
        "print(\"List of values:\", dictt.values())\r\n",
        "print(\"------------\")\r\n",
        "\r\n",
        "print(\"list of key:values pairs:\", dictt.items())\r\n"
      ],
      "execution_count": 15,
      "outputs": [
        {
          "output_type": "stream",
          "text": [
            "list of keys: dict_keys(['Name', 'Dividend', 'Outlook'])\n",
            "--------------------\n",
            "List of values: dict_values(['RIL', 8, 'positive-hold'])\n",
            "------------\n",
            "list of key:values pairs: dict_items([('Name', 'RIL'), ('Dividend', 8), ('Outlook', 'positive-hold')])\n"
          ],
          "name": "stdout"
        }
      ]
    },
    {
      "cell_type": "code",
      "metadata": {
        "colab": {
          "base_uri": "https://localhost:8080/"
        },
        "id": "6fBWe0pB11PV",
        "outputId": "7c99d452-b666-495d-9c18-44a9f16eb136"
      },
      "source": [
        "#--to check for a key ?  -- use in operator.\r\n",
        "# -- 'in' is a membership operator \r\n",
        "dictt = {'Name':'RIL','Dividend':8, 'Outlook':'positive-hold'}\r\n",
        "print(\"Name\" in dictt);\r\n",
        "print(\"Outlook\" in dictt);\r\n",
        "print(\"shop\" in dictt);\r\n"
      ],
      "execution_count": 17,
      "outputs": [
        {
          "output_type": "stream",
          "text": [
            "True\n",
            "True\n",
            "False\n"
          ],
          "name": "stdout"
        }
      ]
    },
    {
      "cell_type": "code",
      "metadata": {
        "colab": {
          "base_uri": "https://localhost:8080/"
        },
        "id": "TfJunKec2SoZ",
        "outputId": "47dc01a4-c14b-43f0-8e45-681327b1e3d5"
      },
      "source": [
        "#--update the dictionary \r\n",
        "dictt = {'Name':'RIL','Dividend':8, 'Outlook':'positive-hold'}\r\n",
        "dictt['score']=200\r\n",
        "print(dictt)\r\n",
        "print(\"----------------------------------------------------\")\r\n",
        "#another way\r\n",
        "dictt2={'qty':500}\r\n",
        "dictt.update(dictt2)\r\n",
        "print(dictt)"
      ],
      "execution_count": 21,
      "outputs": [
        {
          "output_type": "stream",
          "text": [
            "{'Name': 'RIL', 'Dividend': 8, 'Outlook': 'positive-hold', 'score': 200}\n",
            "----------------------------------------------------\n",
            "{'Name': 'RIL', 'Dividend': 8, 'Outlook': 'positive-hold', 'score': 200, 'qty': 500}\n"
          ],
          "name": "stdout"
        }
      ]
    },
    {
      "cell_type": "code",
      "metadata": {
        "colab": {
          "base_uri": "https://localhost:8080/"
        },
        "id": "aamWND-j3LO8",
        "outputId": "0b45252e-fee8-45db-e380-3fcc19ec8944"
      },
      "source": [
        "#--pop removes a key and returns its value\r\n",
        "dict3 = {'Name':'Neha', 'course':'Web Tech'}\r\n",
        "dict3.pop('Name')\r\n",
        "print(dict3)"
      ],
      "execution_count": 23,
      "outputs": [
        {
          "output_type": "stream",
          "text": [
            "{'course': 'Web Tech'}\n"
          ],
          "name": "stdout"
        }
      ]
    },
    {
      "cell_type": "code",
      "metadata": {
        "colab": {
          "base_uri": "https://localhost:8080/"
        },
        "id": "_hRcE--n3y5o",
        "outputId": "ede69365-05c2-4205-b5b6-cde4b4c3b07e"
      },
      "source": [
        "#--to pop key:value pair.\r\n",
        "dict3 = {'Name':'Neha', 'course':'Web Tech'}\r\n",
        "dict3.popitem()\r\n",
        "dict3.popitem()\r\n",
        "print(dict3)\r\n",
        "\r\n"
      ],
      "execution_count": 28,
      "outputs": [
        {
          "output_type": "stream",
          "text": [
            "{}\n"
          ],
          "name": "stdout"
        }
      ]
    },
    {
      "cell_type": "markdown",
      "metadata": {
        "id": "SY_3gYcz-XV0"
      },
      "source": [
        "Regards\r\n",
        "\r\n",
        "Manoj Kumar Attri\r\n",
        "\r\n",
        "You can be connected with me all the time here.\r\n",
        "\r\n",
        "linkedin.com/in/manoj-kumar-b43b63150\r\n"
      ]
    }
  ]
}