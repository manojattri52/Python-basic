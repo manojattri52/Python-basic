{
  "nbformat": 4,
  "nbformat_minor": 0,
  "metadata": {
    "colab": {
      "name": "Py. basic practice.ipynb",
      "provenance": [],
      "collapsed_sections": []
    },
    "kernelspec": {
      "name": "python3",
      "display_name": "Python 3"
    }
  },
  "cells": [
    {
      "cell_type": "code",
      "metadata": {
        "colab": {
          "base_uri": "https://localhost:8080/"
        },
        "id": "UAQ4iWPqPJxc",
        "outputId": "082719ea-b154-4d1c-ea10-3ca05b3815e3"
      },
      "source": [
        "#Example\n",
        "name=\"Manoj Attri\"\n",
        "location=\"Gurgaon\"\n",
        "role=\"Technical\"\n",
        "\n",
        "scope1='''future skills:\n",
        "AI would lead to automation.'''\n",
        "print(name,\"works at\", location,\"and plays a\", role,' role and has',scope1,)"
      ],
      "execution_count": null,
      "outputs": [
        {
          "output_type": "stream",
          "text": [
            "Manoj Attri works at Gurgaon and plays a Technical  role and has future skills:\n",
            "AI would lead to automation.\n"
          ],
          "name": "stdout"
        }
      ]
    },
    {
      "cell_type": "code",
      "metadata": {
        "id": "XFgHpgBftmYy"
      },
      "source": [
        ""
      ],
      "execution_count": null,
      "outputs": []
    },
    {
      "cell_type": "code",
      "metadata": {
        "colab": {
          "base_uri": "https://localhost:8080/"
        },
        "id": "IMtSLj4DRX-g",
        "outputId": "0904539c-4fb1-454e-bdfb-72f83bd23462"
      },
      "source": [
        "#Keywords in python.\n",
        "import keyword\n",
        "\n",
        "print(keyword.kwlist)\n",
        "print(\"total numbers of keyword:\", len(keyword.kwlist))\n"
      ],
      "execution_count": null,
      "outputs": [
        {
          "output_type": "stream",
          "text": [
            "['False', 'None', 'True', 'and', 'as', 'assert', 'break', 'class', 'continue', 'def', 'del', 'elif', 'else', 'except', 'finally', 'for', 'from', 'global', 'if', 'import', 'in', 'is', 'lambda', 'nonlocal', 'not', 'or', 'pass', 'raise', 'return', 'try', 'while', 'with', 'yield']\n",
            "total numbers of keyword: 33\n"
          ],
          "name": "stdout"
        }
      ]
    },
    {
      "cell_type": "code",
      "metadata": {
        "colab": {
          "base_uri": "https://localhost:8080/"
        },
        "id": "JPDdknYPSRFo",
        "outputId": "f850c2a4-7ff3-4b79-8b79-f228a8a0b942"
      },
      "source": [
        "print(keyword.kwlist)\n",
        "print(\"total numbers of keyword:\", len(keyword.kwlist))"
      ],
      "execution_count": null,
      "outputs": [
        {
          "output_type": "stream",
          "text": [
            "['False', 'None', 'True', 'and', 'as', 'assert', 'break', 'class', 'continue', 'def', 'del', 'elif', 'else', 'except', 'finally', 'for', 'from', 'global', 'if', 'import', 'in', 'is', 'lambda', 'nonlocal', 'not', 'or', 'pass', 'raise', 'return', 'try', 'while', 'with', 'yield']\n",
            "total numbers of keyword: 33\n"
          ],
          "name": "stdout"
        }
      ]
    },
    {
      "cell_type": "code",
      "metadata": {
        "colab": {
          "base_uri": "https://localhost:8080/",
          "height": 129
        },
        "id": "7oX8xCBqSWuM",
        "outputId": "6a5ceadf-0dcb-4f1e-8d1a-231e0247b9eb"
      },
      "source": [
        "#First position of variable cannot be number, it can be underscore.\n",
        "_age=54\n",
        "print(_age)\n",
        "0age=76\n",
        "print(0age)\n"
      ],
      "execution_count": null,
      "outputs": [
        {
          "output_type": "error",
          "ename": "SyntaxError",
          "evalue": "ignored",
          "traceback": [
            "\u001b[0;36m  File \u001b[0;32m\"<ipython-input-13-11b23534a8d1>\"\u001b[0;36m, line \u001b[0;32m4\u001b[0m\n\u001b[0;31m    0age=76\u001b[0m\n\u001b[0m       ^\u001b[0m\n\u001b[0;31mSyntaxError\u001b[0m\u001b[0;31m:\u001b[0m invalid syntax\n"
          ]
        }
      ]
    },
    {
      "cell_type": "code",
      "metadata": {
        "colab": {
          "base_uri": "https://localhost:8080/"
        },
        "id": "_FCF2-lOfz4c",
        "outputId": "081b25d4-9964-4259-8282-919d6a6c5fd7"
      },
      "source": [
        "#Multiple assignment\n",
        "x,y,z=2,4,5\n",
        "print(x,y,z)\n",
        "print(x)\n",
        "print(y)\n",
        "print(z)"
      ],
      "execution_count": null,
      "outputs": [
        {
          "output_type": "stream",
          "text": [
            "2 4 5\n",
            "2\n",
            "4\n",
            "5\n"
          ],
          "name": "stdout"
        }
      ]
    },
    {
      "cell_type": "code",
      "metadata": {
        "colab": {
          "base_uri": "https://localhost:8080/"
        },
        "id": "NitAlODYgjbm",
        "outputId": "6e412298-20e7-43dd-9d87-abb07552be7e"
      },
      "source": [
        "#Declare marks of 3 subject.\n",
        "m1, m2, m3= 20, 40,50\n",
        "ave=(m1+m2+m3)/3\n",
        "print(\"average of three subject:\", ave)\n",
        "print(\"rounded ave marks\", round(ave,2))\n"
      ],
      "execution_count": null,
      "outputs": [
        {
          "output_type": "stream",
          "text": [
            "average of three subject: 36.666666666666664\n",
            "rounded ave marks 36.67\n"
          ],
          "name": "stdout"
        }
      ]
    },
    {
      "cell_type": "code",
      "metadata": {
        "colab": {
          "base_uri": "https://localhost:8080/"
        },
        "id": "dTBFSmIWhDDY",
        "outputId": "b986bece-0962-4e57-e350-72ce0d96e305"
      },
      "source": [
        "#Concept of block of code\n",
        "#All code lines written inside a block should have the same identation.\n",
        "\n",
        "if 1!=2:\n",
        "  print(\"yes\")\n",
        "else:\n",
        "  print(\"No\")  "
      ],
      "execution_count": null,
      "outputs": [
        {
          "output_type": "stream",
          "text": [
            "yes\n"
          ],
          "name": "stdout"
        }
      ]
    },
    {
      "cell_type": "code",
      "metadata": {
        "colab": {
          "base_uri": "https://localhost:8080/"
        },
        "id": "APpsLaiJh37U",
        "outputId": "94c8d83c-6c86-432a-d034-1a7b4fc8bb0a"
      },
      "source": [
        "#If my ave marks is >=90 print excellent else print good.\n",
        "avemarks=92\n",
        "if avemarks>=90:\n",
        "  print(\"Excellent\")\n",
        "else:\n",
        "  print(\"Good\")  "
      ],
      "execution_count": null,
      "outputs": [
        {
          "output_type": "stream",
          "text": [
            "Excellent\n"
          ],
          "name": "stdout"
        }
      ]
    },
    {
      "cell_type": "code",
      "metadata": {
        "colab": {
          "base_uri": "https://localhost:8080/"
        },
        "id": "1NaUDxGqi5EK",
        "outputId": "cf1074c3-ad11-4b4a-9c99-505eb830a4ec"
      },
      "source": [
        "#Multiline statements\n",
        "\n",
        "home=\"Window\",\\\n",
        " \"Door\",\\\n",
        " \"Vantilater\",\\\n",
        " \"Fan\"\n",
        "print(home)\n",
        "\n"
      ],
      "execution_count": null,
      "outputs": [
        {
          "output_type": "stream",
          "text": [
            "('Window', 'Door', 'Vantilater', 'Fan')\n"
          ],
          "name": "stdout"
        }
      ]
    },
    {
      "cell_type": "code",
      "metadata": {
        "colab": {
          "base_uri": "https://localhost:8080/"
        },
        "id": "Qh-afJm_niSk",
        "outputId": "7c0f77b8-6380-47b1-b367-fe8b4fad802d"
      },
      "source": [
        "#Quotation in python\n",
        "#Python accept three types of quotation\n",
        "#single('), double(\"\") and (''' or \"\"\")\n",
        "#The triple quotes are used to span the string across multiple lines.\n",
        "\n",
        "fruit='Orange'\n",
        "dryfruit=\"Almond\"\n",
        "python='''It is programming language. Its a general purpose \n",
        "interprator, interactive and hight level programming language.'''\n",
        "\n",
        "python1=\"\"\"It is programming language. Its a general purpose\n",
        "interprator, interactive and hight level programming language.\"\"\"\n",
        "\n",
        "print(fruit)\n",
        "\n",
        "print(\"-----------\")\n",
        "print(dryfruit)\n",
        "print(\"-----------\")\n",
        "print(python)\n",
        "print(\"-----------\")\n",
        "print(python1)"
      ],
      "execution_count": null,
      "outputs": [
        {
          "output_type": "stream",
          "text": [
            "Orange\n",
            "-----------\n",
            "Almond\n",
            "-----------\n",
            "It is programming language. Its a general purpose \n",
            "interprator, interactive and hight level programming language.\n",
            "-----------\n",
            "It is programming language. Its a general purpose\n",
            "interprator, interactive and hight level programming language.\n"
          ],
          "name": "stdout"
        }
      ]
    },
    {
      "cell_type": "code",
      "metadata": {
        "colab": {
          "base_uri": "https://localhost:8080/"
        },
        "id": "CS8aS7AjsZWv",
        "outputId": "6fb54b87-8edf-4b38-c740-4c98d16d067d"
      },
      "source": [
        "#Getting input from the user.\n",
        "firstname=input(\"Whats your name? \")\n",
        "profession=input(\"Whats your profession ?\")\n",
        "\n",
        "print(\"My name is\",firstname,\"and i am \",profession, \"in Dongfang Electronic.\")\n"
      ],
      "execution_count": null,
      "outputs": [
        {
          "output_type": "stream",
          "text": [
            "Whats your name? Manoj\n",
            "Whats your profession ?QA Engineer\n",
            "My name is Manoj and i am  QA Engineer in Dongfang Electronic.\n"
          ],
          "name": "stdout"
        }
      ]
    },
    {
      "cell_type": "code",
      "metadata": {
        "colab": {
          "base_uri": "https://localhost:8080/"
        },
        "id": "behBXpn2t-BD",
        "outputId": "92318e43-8902-4eb8-a475-96d52bb036b6"
      },
      "source": [
        "#Using format string when printing o/p\n",
        "branch=\"Science\"\n",
        "school=\"Bogdhar\"\n",
        "cls=\"plus two\"\n",
        "\n",
        "print(f\"My branch is {branch} and school is {school} in {cls} class.\")"
      ],
      "execution_count": null,
      "outputs": [
        {
          "output_type": "stream",
          "text": [
            "My branch is Science and school is Bogdhar in plus two class.\n"
          ],
          "name": "stdout"
        }
      ]
    },
    {
      "cell_type": "code",
      "metadata": {
        "id": "_mS5LP4_v0Yj"
      },
      "source": [
        "#Python data types:\n"
      ],
      "execution_count": null,
      "outputs": []
    },
    {
      "cell_type": "markdown",
      "metadata": {
        "id": "sAoUPdMfv_wt"
      },
      "source": [
        "1. Numbers\n",
        "2. String\n",
        "3. Boolean\n",
        "4. List\n",
        "5. Tuple\n",
        "6. Set\n",
        "7. Dictionary"
      ]
    },
    {
      "cell_type": "code",
      "metadata": {
        "colab": {
          "base_uri": "https://localhost:8080/"
        },
        "id": "-W3oPloEwWKQ",
        "outputId": "67e8e3c2-194a-4954-be5f-85405455958e"
      },
      "source": [
        "# Numbers\n",
        "# Python numbers are: integer, float and complex\n",
        "\n",
        "var1=34 # int\n",
        "var2=3.45 # float\n",
        "var3= 4+2j # complex\n",
        "\n",
        "print(var1)\n",
        "print(var2)\n",
        "print(var3)\n"
      ],
      "execution_count": null,
      "outputs": [
        {
          "output_type": "stream",
          "text": [
            "34\n",
            "3.45\n",
            "(4+2j)\n"
          ],
          "name": "stdout"
        }
      ]
    },
    {
      "cell_type": "code",
      "metadata": {
        "colab": {
          "base_uri": "https://localhost:8080/"
        },
        "id": "ktVqWy-j2EnQ",
        "outputId": "2d585a0d-87fd-43ef-bd58-79512a05a9f3"
      },
      "source": [
        "#Components of a complex numbers\n",
        "z=3-4j\n",
        "print(z, z.real, z.imag, sep=\"\\n\")"
      ],
      "execution_count": null,
      "outputs": [
        {
          "output_type": "stream",
          "text": [
            "(3-4j)\n",
            "3.0\n",
            "-4.0\n"
          ],
          "name": "stdout"
        }
      ]
    },
    {
      "cell_type": "code",
      "metadata": {
        "colab": {
          "base_uri": "https://localhost:8080/"
        },
        "id": "D20djizH2eWY",
        "outputId": "14f29497-3b36-43f5-f143-9132545136b5"
      },
      "source": [
        "# We can delete any number or any object by del\n",
        "\n",
        "x=34\n",
        "y=3.45\n",
        "z=4+5j\n",
        "\n",
        "del x,y\n",
        "print(z)\n"
      ],
      "execution_count": null,
      "outputs": [
        {
          "output_type": "stream",
          "text": [
            "(4+5j)\n"
          ],
          "name": "stdout"
        }
      ]
    },
    {
      "cell_type": "code",
      "metadata": {
        "colab": {
          "base_uri": "https://localhost:8080/"
        },
        "id": "79lpPrdq3Tab",
        "outputId": "ef7e3bd0-0b70-4d7b-c9f1-90f370a35056"
      },
      "source": [
        "#Python Boolean\n",
        "#The two constants True and False are defined.\n",
        "# The usual boolean operators are also available: ==, !=, >, >=,<,<=\n",
        "a=int(input(\"enter the value of a\"))\n",
        "b=int(input(\"enter the value of b\"))\n",
        "\n",
        "print(a==b-1,a==b, a!=b, a>b,a<b,a>=b,a<=b, sep='\\n')"
      ],
      "execution_count": null,
      "outputs": [
        {
          "output_type": "stream",
          "text": [
            "enter the value of a10\n",
            "enter the value of b20\n",
            "False\n",
            "False\n",
            "True\n",
            "False\n",
            "True\n",
            "False\n",
            "True\n"
          ],
          "name": "stdout"
        }
      ]
    },
    {
      "cell_type": "code",
      "metadata": {
        "colab": {
          "base_uri": "https://localhost:8080/"
        },
        "id": "QrWH5ZZs6Dyu",
        "outputId": "330579d1-c184-4c98-db19-6074263bcc11"
      },
      "source": [
        "# Python string\n",
        "\n",
        "str1= 'Himachal@Pradesh'\n",
        "print(str1)\n",
        "print(str1[0])\n",
        "#[m:n] called slice opertor. Will start from mth position and go upto (n-1)th position\n",
        "print(str1[2:7]) ##Prints from 2nd to 6th. Remember indexing starts from 0.\n",
        "print(str1[2:])\n",
        "print(str1[:8])\n",
        "print(str1*2)\n",
        "print(str1+\"India\") # concatenated string\n",
        "print(\"-------------\")\n",
        "print(str1[-5])  # negative indexing, means start from right side\n",
        "print(str1[-4:])\n",
        "print(str1[-8:-2])      \n",
        "      "
      ],
      "execution_count": null,
      "outputs": [
        {
          "output_type": "stream",
          "text": [
            "Himachal@Pradesh\n",
            "H\n",
            "macha\n",
            "machal@Pradesh\n",
            "Himachal\n",
            "Himachal@PradeshHimachal@Pradesh\n",
            "Himachal@PradeshIndia\n",
            "-------------\n",
            "a\n",
            "desh\n",
            "@Prade\n"
          ],
          "name": "stdout"
        }
      ]
    },
    {
      "cell_type": "code",
      "metadata": {
        "colab": {
          "base_uri": "https://localhost:8080/",
          "height": 265
        },
        "id": "v0OSH4LC9Lv7",
        "outputId": "2c47e232-a0a0-4308-c035-dc12c1630c96"
      },
      "source": [
        "# Python List: It hold different types of data values.\n",
        "# [] brackets use for list.\n",
        "\n",
        "bird=['Perrot', 'Peacock', 'Crow', 453, 34.5]\n",
        "animal=['Cow', 'Bull','Lion', 'Elephant']\n",
        "\n",
        "print(bird)\n",
        "print(bird[0])\n",
        "print(bird[1:4]) # from index 1 to (4-1) i.e 3\n",
        "print(bird+animal) \n",
        "print(bird+\"garden\") # It only concate list not string. see error"
      ],
      "execution_count": null,
      "outputs": [
        {
          "output_type": "stream",
          "text": [
            "['Perrot', 'Peacock', 'Crow', 453, 34.5]\n",
            "Perrot\n",
            "['Peacock', 'Crow', 453]\n",
            "['Perrot', 'Peacock', 'Crow', 453, 34.5, 'Cow', 'Bull', 'Lion', 'Elephant']\n"
          ],
          "name": "stdout"
        },
        {
          "output_type": "error",
          "ename": "TypeError",
          "evalue": "ignored",
          "traceback": [
            "\u001b[0;31m---------------------------------------------------------------------------\u001b[0m",
            "\u001b[0;31mTypeError\u001b[0m                                 Traceback (most recent call last)",
            "\u001b[0;32m<ipython-input-21-bbcd028084de>\u001b[0m in \u001b[0;36m<module>\u001b[0;34m()\u001b[0m\n\u001b[1;32m      9\u001b[0m \u001b[0mprint\u001b[0m\u001b[0;34m(\u001b[0m\u001b[0mbird\u001b[0m\u001b[0;34m[\u001b[0m\u001b[0;36m1\u001b[0m\u001b[0;34m:\u001b[0m\u001b[0;36m4\u001b[0m\u001b[0;34m]\u001b[0m\u001b[0;34m)\u001b[0m \u001b[0;31m# from index 1 to (4-1) i.e 3\u001b[0m\u001b[0;34m\u001b[0m\u001b[0;34m\u001b[0m\u001b[0m\n\u001b[1;32m     10\u001b[0m \u001b[0mprint\u001b[0m\u001b[0;34m(\u001b[0m\u001b[0mbird\u001b[0m\u001b[0;34m+\u001b[0m\u001b[0manimal\u001b[0m\u001b[0;34m)\u001b[0m\u001b[0;31m# It only concate list not string.\u001b[0m\u001b[0;34m\u001b[0m\u001b[0;34m\u001b[0m\u001b[0m\n\u001b[0;32m---> 11\u001b[0;31m \u001b[0mprint\u001b[0m\u001b[0;34m(\u001b[0m\u001b[0mbird\u001b[0m\u001b[0;34m+\u001b[0m\u001b[0;34m\"garden\"\u001b[0m\u001b[0;34m)\u001b[0m\u001b[0;34m\u001b[0m\u001b[0;34m\u001b[0m\u001b[0m\n\u001b[0m",
            "\u001b[0;31mTypeError\u001b[0m: can only concatenate list (not \"str\") to list"
          ]
        }
      ]
    },
    {
      "cell_type": "code",
      "metadata": {
        "id": "zVzMj1_tAaQk",
        "colab": {
          "base_uri": "https://localhost:8080/"
        },
        "outputId": "3fab0861-dba6-47f2-caab-64948cc3693c"
      },
      "source": [
        "#Apply few functions on the list.\n",
        "list1='Python Java SQL R PHP JavaScript'\n",
        "\n",
        "list2=list1.split(' ') #Splits the single big string into element strings at every space.\n",
        "                      # In simple word, splits the sentence into words.\n",
        "                      # Return the value of the split() is a list of strings.\n",
        "print(list2[1])\n",
        "print(list2[-2])\n",
        "print(list2.pop())\n",
        "print('-'.join(list2)) #Joins list using space as a separator.\n",
        "print('#'.join(list2[2:5]))\n"
      ],
      "execution_count": null,
      "outputs": [
        {
          "output_type": "stream",
          "text": [
            "Java\n",
            "PHP\n",
            "JavaScript\n",
            "Python-Java-SQL-R-PHP\n",
            "SQL#R#PHP\n"
          ],
          "name": "stdout"
        }
      ]
    },
    {
      "cell_type": "code",
      "metadata": {
        "colab": {
          "base_uri": "https://localhost:8080/",
          "height": 265
        },
        "id": "tRQ6QJBJ_SJ3",
        "outputId": "51b730fb-d439-439e-bfe5-b6f192f24802"
      },
      "source": [
        "# Python tuple-> Very similer to list.\n",
        "# Diff. between list and tuple is: tuple cannot be updated but list can be.\n",
        "#() bracket is used in tuple.\n",
        "tuple=('Bucket', 'Iron', 'Rack', 'Hanger')\n",
        "tinytuple=('Key', 'Saw', 'Bulb')\n",
        "\n",
        "print(tuple)\n",
        "print(tuple[1:4])\n",
        "print(tuple+tinytuple)\n",
        "print(tuple.pop[-1])# Tuple is immutable so we cannot remove or add any item in tuple.\n",
        "                    # We can remove or add any item in tuple by converting it into list. \n",
        "\n"
      ],
      "execution_count": null,
      "outputs": [
        {
          "output_type": "stream",
          "text": [
            "('Bucket', 'Iron', 'Rack', 'Hanger')\n",
            "('Iron', 'Rack', 'Hanger')\n",
            "('Bucket', 'Iron', 'Rack', 'Hanger', 'Key', 'Saw', 'Bulb')\n"
          ],
          "name": "stdout"
        },
        {
          "output_type": "error",
          "ename": "AttributeError",
          "evalue": "ignored",
          "traceback": [
            "\u001b[0;31m---------------------------------------------------------------------------\u001b[0m",
            "\u001b[0;31mAttributeError\u001b[0m                            Traceback (most recent call last)",
            "\u001b[0;32m<ipython-input-15-eaa42e0f2ae6>\u001b[0m in \u001b[0;36m<module>\u001b[0;34m()\u001b[0m\n\u001b[1;32m      8\u001b[0m \u001b[0mprint\u001b[0m\u001b[0;34m(\u001b[0m\u001b[0mtuple\u001b[0m\u001b[0;34m[\u001b[0m\u001b[0;36m1\u001b[0m\u001b[0;34m:\u001b[0m\u001b[0;36m4\u001b[0m\u001b[0;34m]\u001b[0m\u001b[0;34m)\u001b[0m\u001b[0;34m\u001b[0m\u001b[0;34m\u001b[0m\u001b[0m\n\u001b[1;32m      9\u001b[0m \u001b[0mprint\u001b[0m\u001b[0;34m(\u001b[0m\u001b[0mtuple\u001b[0m\u001b[0;34m+\u001b[0m\u001b[0mtinytuple\u001b[0m\u001b[0;34m)\u001b[0m\u001b[0;34m\u001b[0m\u001b[0;34m\u001b[0m\u001b[0m\n\u001b[0;32m---> 10\u001b[0;31m \u001b[0mprint\u001b[0m\u001b[0;34m(\u001b[0m\u001b[0mtuple\u001b[0m\u001b[0;34m.\u001b[0m\u001b[0mpop\u001b[0m\u001b[0;34m[\u001b[0m\u001b[0;34m-\u001b[0m\u001b[0;36m1\u001b[0m\u001b[0;34m]\u001b[0m\u001b[0;34m)\u001b[0m\u001b[0;34m\u001b[0m\u001b[0;34m\u001b[0m\u001b[0m\n\u001b[0m\u001b[1;32m     11\u001b[0m \u001b[0;34m\u001b[0m\u001b[0m\n",
            "\u001b[0;31mAttributeError\u001b[0m: 'tuple' object has no attribute 'pop'"
          ]
        }
      ]
    },
    {
      "cell_type": "code",
      "metadata": {
        "colab": {
          "base_uri": "https://localhost:8080/",
          "height": 231
        },
        "id": "Z3M4YbpQCuI4",
        "outputId": "2365d562-527f-401b-d6d8-2e4eb3929d58"
      },
      "source": [
        "# Their is a little difference between list and tuple.\n",
        "\n",
        "#--Lists    1> uses []  2> can be updated\n",
        "#--tuples   1> uses ()  2> cannot be updated  \n",
        "\n",
        "#-- tuple and list can hold different types of data values\n",
        "tuple = ('scikit', 123 , 2.23, 'suven', 72+3j)\n",
        "list = ['tensor', 456]\n",
        "\n",
        "#-- list can be updated\n",
        "list[0] = \"Google Tensor\"\n",
        "print(list[0])\n",
        "\n",
        "#-- tuple cannot be updated \n",
        "tuple[0] = \"ML-DL\"    ##-- NOTE THE ERROR !!!!\n",
        "print(tuple[0])"
      ],
      "execution_count": null,
      "outputs": [
        {
          "output_type": "stream",
          "text": [
            "Google Tensor\n"
          ],
          "name": "stdout"
        },
        {
          "output_type": "error",
          "ename": "TypeError",
          "evalue": "ignored",
          "traceback": [
            "\u001b[0;31m---------------------------------------------------------------------------\u001b[0m",
            "\u001b[0;31mTypeError\u001b[0m                                 Traceback (most recent call last)",
            "\u001b[0;32m<ipython-input-17-21dd76f7580d>\u001b[0m in \u001b[0;36m<module>\u001b[0;34m()\u001b[0m\n\u001b[1;32m     13\u001b[0m \u001b[0;34m\u001b[0m\u001b[0m\n\u001b[1;32m     14\u001b[0m \u001b[0;31m#-- tuple cannot be updated\u001b[0m\u001b[0;34m\u001b[0m\u001b[0;34m\u001b[0m\u001b[0;34m\u001b[0m\u001b[0m\n\u001b[0;32m---> 15\u001b[0;31m \u001b[0mtuple\u001b[0m\u001b[0;34m[\u001b[0m\u001b[0;36m0\u001b[0m\u001b[0;34m]\u001b[0m \u001b[0;34m=\u001b[0m \u001b[0;34m\"ML-DL\"\u001b[0m    \u001b[0;31m##-- NOTE THE ERROR !!!!\u001b[0m\u001b[0;34m\u001b[0m\u001b[0;34m\u001b[0m\u001b[0m\n\u001b[0m\u001b[1;32m     16\u001b[0m \u001b[0mprint\u001b[0m\u001b[0;34m(\u001b[0m\u001b[0mtuple\u001b[0m\u001b[0;34m[\u001b[0m\u001b[0;36m0\u001b[0m\u001b[0;34m]\u001b[0m\u001b[0;34m)\u001b[0m\u001b[0;34m\u001b[0m\u001b[0;34m\u001b[0m\u001b[0m\n",
            "\u001b[0;31mTypeError\u001b[0m: 'tuple' object does not support item assignment"
          ]
        }
      ]
    },
    {
      "cell_type": "code",
      "metadata": {
        "colab": {
          "base_uri": "https://localhost:8080/"
        },
        "id": "Y_y-zoF-DbPp",
        "outputId": "6674db78-851d-4426-d138-9146b871167b"
      },
      "source": [
        "# Python Set: Set is a collection which is unordered and unindexed. In python set are written with curley{} brackets.\n",
        "\n",
        "set={'Key', 'Lock', 'Handle', 'Switch','Plug',}\n",
        "print(set)\n",
        "# Once a set is created, we cannot change its items but we can add new items.\n",
        "\n",
        "#Adding a new element\n",
        "set.add(\"Neural network & Machine learning\") # we can one item at one time. Multiple items not allowed in set.\n",
        "print(set)\n"
      ],
      "execution_count": null,
      "outputs": [
        {
          "output_type": "stream",
          "text": [
            "{'Handle', 'Lock', 'Key', 'Switch', 'Plug'}\n",
            "{'Handle', 'Neural network & Machine learning', 'Lock', 'Key', 'Switch', 'Plug'}\n"
          ],
          "name": "stdout"
        }
      ]
    },
    {
      "cell_type": "code",
      "metadata": {
        "colab": {
          "base_uri": "https://localhost:8080/"
        },
        "id": "W-ObsEKZOSeL",
        "outputId": "a3944520-1faa-46be-b195-c19e48d3b66a"
      },
      "source": [
        "# Python dictionary: holds key:value pair.\n",
        "# Enclosed by curly braces{}\n",
        "# element of dictionary are not ordered.\n",
        "dict={}\n",
        "dict['campus']='IIT-K'\n",
        "dict['branch']='Electrical'\n",
        "\n",
        "tinydict={'name':'Manoj', 'code': 40278, 'dept': 'Quality'}\n",
        "\n",
        "print(dict['campus'])   # only prints the value at the key 'campus'\n",
        "print(dict['branch'])  # only prints the value at the key 'branch'\n",
        "\n",
        "print(tinydict) # elements of dict are never ordered\n",
        "\n",
        "print(tinydict.keys())  # .keys is a predefined method. It prints all the keys\n",
        "\n",
        "print(tinydict.values())  # .values is a predefined method. It prints all the values\n",
        "\n",
        "print(tinydict.items())   # .items is a predefined method. It prints all the key:value pairs\n",
        "\n"
      ],
      "execution_count": null,
      "outputs": [
        {
          "output_type": "stream",
          "text": [
            "IIT-K\n",
            "Electrical\n",
            "{'name': 'Manoj', 'code': 40278, 'dept': 'Quality'}\n",
            "dict_keys(['name', 'code', 'dept'])\n",
            "dict_values(['Manoj', 40278, 'Quality'])\n",
            "dict_items([('name', 'Manoj'), ('code', 40278), ('dept', 'Quality')])\n"
          ],
          "name": "stdout"
        }
      ]
    },
    {
      "cell_type": "code",
      "metadata": {
        "colab": {
          "base_uri": "https://localhost:8080/"
        },
        "id": "E7cLlGKhQ4om",
        "outputId": "68011e72-cf83-41f1-e453-7ac71c781b59"
      },
      "source": [
        "## Create a dict , which holds your basic shopping list information.\n",
        "shoppinglist={'name':'Manoj Attri', 'Total items': 12, 'Bill':3000}\n",
        "\n",
        "print(shoppinglist)\n",
        "print(shoppinglist.keys())\n",
        "print(shoppinglist.values())\n",
        "print(shoppinglist.items())\n",
        "\n",
        "print(shoppinglist['name']) # Don't use numeric indexes like 0,1 for accessing any dict element.   \n"
      ],
      "execution_count": null,
      "outputs": [
        {
          "output_type": "stream",
          "text": [
            "{'name': 'Manoj Attri', 'Total items': 12, 'Bill': 3000}\n",
            "dict_keys(['name', 'Total items', 'Bill'])\n",
            "dict_values(['Manoj Attri', 12, 3000])\n",
            "dict_items([('name', 'Manoj Attri'), ('Total items', 12), ('Bill', 3000)])\n",
            "Manoj Attri\n"
          ],
          "name": "stdout"
        }
      ]
    },
    {
      "cell_type": "code",
      "metadata": {
        "id": "szRadeMp4k6W"
      },
      "source": [
        ""
      ],
      "execution_count": null,
      "outputs": []
    },
    {
      "cell_type": "markdown",
      "metadata": {
        "id": "S0HXn1hQ6LXq"
      },
      "source": [
        "# **Membership & Identity operator**\n",
        "**in:** Evaluates to true if it finds a variable in the specified sequence and false otherwise.\n",
        "\n",
        "**not in:** Evaluates to true if it does not finds a variable in the specified sequence and false otherwise."
      ]
    },
    {
      "cell_type": "code",
      "metadata": {
        "colab": {
          "base_uri": "https://localhost:8080/"
        },
        "id": "YaBzOqYT65cY",
        "outputId": "9b33050a-c372-4b64-a899-9728e13014db"
      },
      "source": [
        "# example\n",
        "list=[1,2,3,2.3,'xyz']\n",
        "var=1\n",
        "if var in list:\n",
        "  print(\" 1 is their.\")\n",
        "else:\n",
        "  print(\"1 is not their.\")\n",
        "\n",
        "var = 'abc'\n",
        "if var not in list:\n",
        "  print('YES')\n",
        "else:\n",
        "  print(\"No\")\n",
        "\n"
      ],
      "execution_count": null,
      "outputs": [
        {
          "output_type": "stream",
          "text": [
            " 1 is their.\n",
            "YES\n"
          ],
          "name": "stdout"
        }
      ]
    },
    {
      "cell_type": "code",
      "metadata": {
        "colab": {
          "base_uri": "https://localhost:8080/"
        },
        "id": "ZXHr7F5_-Pf0",
        "outputId": "ee04920f-a2ee-40ed-879e-9bed8746ba96"
      },
      "source": [
        "# Python Identity operators\n",
        "# It compare the memory locations of two objects.\n",
        "\n",
        "list3=[3,4,5, 3.4, 'attri']\n",
        "list4=list3  # Imp concept: only the address of list3 is copied to list4.\n",
        "              # So in simple words, list3 and list4 point to the same space.\n",
        "list5=[3,4,5, 3.4, 'attri']\n",
        "if list3 is list4:\n",
        "  print(\"list3 and list4 are same\")\n",
        "else:\n",
        "  print(\"both are different\")\n",
        "\n",
        "if list3 is not list5:\n",
        "  print(\"YES\")\n",
        "else:\n",
        "  print(\"No\")\n",
        "      \n"
      ],
      "execution_count": null,
      "outputs": [
        {
          "output_type": "stream",
          "text": [
            "list3 and list4 are same\n",
            "YES\n"
          ],
          "name": "stdout"
        }
      ]
    },
    {
      "cell_type": "code",
      "metadata": {
        "id": "bc5ZCXdPA6wf"
      },
      "source": [
        "# Decision making statements\n"
      ],
      "execution_count": null,
      "outputs": []
    },
    {
      "cell_type": "markdown",
      "metadata": {
        "id": "1c03zkxoBvdG"
      },
      "source": [
        "Python programming language assumes any non-zero and non-null values as True, and any zero or null values as False value."
      ]
    },
    {
      "cell_type": "code",
      "metadata": {
        "colab": {
          "base_uri": "https://localhost:8080/"
        },
        "id": "hnOzUO_CCBvW",
        "outputId": "902f4ea8-cd2e-48d6-cece-5b49d87bdd69"
      },
      "source": [
        "# ---if-elif-else--\n",
        "machine=5\n",
        "emp=20\n",
        "line=3\n",
        "\n",
        "if machine>emp:\n",
        "  print(\"we need to recruits employees.\")\n",
        "elif machine<emp:\n",
        "  print(\"Operate the machine.\")\n",
        "else:\n",
        "  print('We need to disuss')   \n"
      ],
      "execution_count": null,
      "outputs": [
        {
          "output_type": "stream",
          "text": [
            "Operate the machine.\n"
          ],
          "name": "stdout"
        }
      ]
    },
    {
      "cell_type": "code",
      "metadata": {
        "colab": {
          "base_uri": "https://localhost:8080/"
        },
        "id": "qvkW0rftEFgY",
        "outputId": "9015337f-398c-489d-8d0d-aace50525dab"
      },
      "source": [
        "a='r'\n",
        "b='Attri'\n",
        "if a in b:\n",
        "  print(\"YES\")\n",
        "else:\n",
        "  print(\"NO\")\n",
        "    "
      ],
      "execution_count": null,
      "outputs": [
        {
          "output_type": "stream",
          "text": [
            "YES\n"
          ],
          "name": "stdout"
        }
      ]
    },
    {
      "cell_type": "code",
      "metadata": {
        "colab": {
          "base_uri": "https://localhost:8080/"
        },
        "id": "luh0ZcyotvQE",
        "outputId": "96d6885e-5899-4ce7-c44c-bbad30857d03"
      },
      "source": [
        "## The condition expression should evaluate to True or False\n",
        "## If the expression return None , then its considered as False\n",
        "## On the other hand if the function returns a notnull value then its considered as True.\n",
        "\n",
        "if 2*0:\n",
        "  print(\"it worked\")\n",
        "else:\n",
        "  print(\"It didn't work\")\n",
        "\n",
        "\n",
        "if \"Arun is my friend\":\n",
        "  print(\"yes\")\n",
        "else:\n",
        "  print(\"No\")\n"
      ],
      "execution_count": 2,
      "outputs": [
        {
          "output_type": "stream",
          "text": [
            "It didn't work\n",
            "yes\n"
          ],
          "name": "stdout"
        }
      ]
    },
    {
      "cell_type": "code",
      "metadata": {
        "colab": {
          "base_uri": "https://localhost:8080/"
        },
        "id": "L-Fb79OHul7i",
        "outputId": "54d169a0-af6e-4943-8cbe-80ed3595cb90"
      },
      "source": [
        "#We wish to calculate your bonus\n",
        "## if perfomance is A+ , then give 20% bonus ( of CTC )\n",
        "## if perfomance is A , then give 10% bonus ( of CTC )\n",
        "## if perfomance is B , then give 5% bonus ( of CTC )\n",
        "## if perfomance is none of the above grades , then only LOA \n",
        "\n",
        "name='Manoj'\n",
        "professional=\"Quality Engineer\"\n",
        "salary=500000\n",
        "\n",
        "print(\"calulated bonus is:\", name)\n",
        "grade= input(\"Employee grade:\")\n",
        "\n",
        "if grade=='A+':\n",
        "  bonus=salary * 0.2\n",
        "  print(\"congrats, well done. Your bonus is:\", bonus)\n",
        "\n",
        "  \n",
        "elif grade=='A':\n",
        "   bonus=salary*0.10\n",
        "   print('congrats, good. Your bonus is:', bonus) \n",
        "  \n",
        "elif grade== 'B':\n",
        "   bonus=salary*0.5\n",
        "   print(\"good, try more. Your bonus is:\", bonus)\n",
        "   \n",
        "else:\n",
        "  print(\"Do hard work for next year\")   \n",
        "\n",
        "\n"
      ],
      "execution_count": 25,
      "outputs": [
        {
          "output_type": "stream",
          "text": [
            "calulated bonus is: Manoj\n",
            "Employee grade:B\n",
            "good, try more. Your bonus is: 250000.0\n"
          ],
          "name": "stdout"
        }
      ]
    },
    {
      "cell_type": "code",
      "metadata": {
        "id": "GS_gm9Jjy5ml"
      },
      "source": [
        ""
      ],
      "execution_count": 25,
      "outputs": []
    },
    {
      "cell_type": "code",
      "metadata": {
        "id": "0NMVovnW0rju"
      },
      "source": [
        "$How to read a data file into my Colab Notebook ?\n",
        "#Well, first you need to upload the data file into your Colab. So, we upload it like this :\n",
        "\n",
        "# Steps to upload any data file into your Colab notebook. (its very simple !!)\n",
        "# Step 1: Download the dataset to your local PC. For time being you can use this dummy students dataset.\n",
        "#         https://drive.google.com/open?id=1viCNZx1e3Egi7zsh72zwGjrA_W8dcpul \n",
        "# Step 2: Run the below code , select the data file. It would get uploaded to your Colab Notebook.\n",
        "\n",
        "from google.colab import files\n",
        "files.upload()"
      ],
      "execution_count": null,
      "outputs": []
    },
    {
      "cell_type": "code",
      "metadata": {
        "id": "2F70nCwk07iO"
      },
      "source": [
        "# now to read this data file , we would use below code :\n",
        "\n",
        "import pandas as pd\n",
        "\n",
        "df = pd.read_csv(\"student_records.csv\" , low_memory='false')\n",
        "df\n",
        "\n",
        "# ok, now we did here :\n",
        "# first, i imported a build-in package called pandas. I gave it a short name as pd\n",
        "# second, read_csv() allows to read a csv file \n",
        "# return value of read_csv() function is dataframe. Its a 2-dimensional datastructure and looks like excel table.\n",
        "# last, i printed the df , i mean the dataframe.  "
      ],
      "execution_count": null,
      "outputs": []
    }
  ]
}